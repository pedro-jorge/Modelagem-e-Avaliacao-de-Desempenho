{
 "cells": [
  {
   "cell_type": "markdown",
   "source": [
    "### Matropolis-Hastings para remoção de ruído"
   ],
   "metadata": {
    "collapsed": false
   }
  },
  {
   "cell_type": "markdown",
   "source": [
    "O ruído é uma perturbação, degeneração ou poluição na imagem original. Nosso objetivo é, de alguma forma, restaurar o máximo que for possível do conteúdo original, removendo esses ruídos.\n",
    "Nesse projeto em específico, é considerado o **Ising Model**, que modela situações onde temos dois estados (+1 e -1) que podem interagir com sua vizinhança. É assumido que a imagem em questão é passível de ser interpretada com esse modelo: se escolhermos, aleatoriamente, um pixel preto, há mais chances de que ele esteja cercado por outros pixels pretos (o mesmo para pixels brancos)."
   ],
   "metadata": {
    "collapsed": false
   }
  },
  {
   "cell_type": "markdown",
   "source": [
    "Consideramos então uma imagem $Z$ preta e branca, ou seja, $+1$ ou $-1$, que é o nosso objetivo. Temos uma outra imagem, $X$, que é $Z$ perturbada por ruídos.\n",
    "\n",
    "De alguma forma, queremos partir de $X$ e chegar a $Z$. Para isso, é utilizado o algoritmo de **Metropolis-Hastings*:\n",
    "\n",
    "1. Escolhemos um pixel aleatório de $X$;\n",
    "2. Calculamos a probabilidade de aceitação em inverter esse pixel ou não;\n",
    "3. Invertemos ou não esse pixel de acordo com a probabilidade obtida;\n",
    "4. Repetimos esse processo até obtermos uma convergência.\n"
   ],
   "metadata": {
    "collapsed": false
   }
  },
  {
   "cell_type": "markdown",
   "source": [
    "### Metropolis-Hastings\n",
    "\n",
    "Sabemos que a descrição elementar do algoritmo, fora do contexto de ruídos, é dada por:\n",
    "\n",
    "Seja $\\pi$ = ($\\pi_1$, $\\pi_2$, ...) uma distribuição de probabilidade discreta. Construiremos uma cadeia de Markov reversível $X_0, X_1, ...$ cuja distribuição estacionária é $\\pi$.\n",
    "Consideramos, ainda, $T$ uma matriz de transição para qualquer cadeia de Markov irredutível que possua o mesmo espaço de estados como $\\pi$. Essa cadeia é uma *proposal chain*, gerando elementos de uma sequência que o algoritmo pode ou não decidir aceitar.\n",
    "Se estamos em um estado $X_n$, o próximo estado $X_{n+1}$ é obtido da seguinte forma:\n",
    "\n",
    "1. Escohemos um novo estado de acordo com $T$, ou seja, escolhemos o estado $j$ com probabilidade $T_{ij}$.\n",
    "2. Decidimos de o estado $j$ é aceito ou não, a partir da *acceptance function*:\n",
    "$$\n",
    "a(i, j) = \\frac{\\pi_j T_{ji}}{\\pi_i T_{ij}\n",
    "$$\n",
    "Se $a(i,j) \\geq 1$, j é aceito como o próximo estado. Se $a(i,j) < 1$, j é aceito com probabilidade $a(i,j)$; se $j$ não é aceito, o próximo estado é igual ao estado atual."
   ],
   "metadata": {
    "collapsed": false
   }
  },
  {
   "cell_type": "markdown",
   "source": [
    "### No contexto de ruídos\n",
    "\n",
    "É trivial notar que nossa matriz é a próxima imagem $X$, e queremos chegar a uma matriz que é a imagem $Z$.\n",
    "Consideremos $Z^{(t)}$ o estado da imagem $Z$ construída no instante $t$; o pixel $(i, j)$, escolhido aleatoriamente, pode ou não ser invertido, transicionando para $Z^{(t+1)}$\n",
    "A acceptance function será:\n",
    "\n",
    "\\begin{eqnarray}\n",
    "a(i, j)\n",
    "& = &\n",
    "\\frac{p(Z^{(t+1)} | X, \\beta, \\pi)}{p(Z^{(t)} | X, \\beta, \\pi)} \\\\\n",
    "& = &\n",
    "\\exp{\\left( - 2\\gamma Z^{(t)}_{ij} X_{ij} - 2\\beta \\sum_{(i,j) \\sim (k,l)} Z^{(t)}_{ij} Z^{(t)}_{kl} \\right)}\n",
    "\\end{eqnarray}\n",
    "\n",
    "Se $a(i,j) \\geq 1$, o pixel é invertido; se $a(i, j) < 1$, o pixel é invertido com probabilidade $a(i,j)$.\n",
    "\n",
    "Observemos que\n",
    "\\begin{eqnarray}\n",
    "p(Z \\mid X, \\beta, \\pi)\n",
    "& \\propto & \\exp{\\left( \\gamma \\sum_{ij} Z_{ij} X_{ij} + \\beta \\sum_{(i,j)\\sim (k,l)} Z_{ij} Z_{kl} \\right)}\n",
    "\\end{eqnarray}\n",
    "\n",
    "Onde $\\gamma = \\dfrac{1}{2} \\log{\\dfrac{1-\\pi}{\\pi}}$. Valores maiores de $\\gamma$ significam poucos ruídos em $X$. Similarmente, esperamos maior consistência de vizinhança se $\\beta$ grande (se um pixel é preto, é esperado que os vizinhos também sejam; o mesmo para os pixels brancos)."
   ],
   "metadata": {
    "collapsed": false
   }
  },
  {
   "cell_type": "markdown",
   "source": [
    "### Pseudocódigo\n",
    "\n",
    "1. Initializamos $\\beta$, $\\pi$ e $\\gamma$\n",
    "2. Initializamos $Z^{(0)} \\gets X$\n",
    "3. A cada passo $t$:\n",
    "    3.1. Escolhemos um pixel $(i,j)$ aleatoriamente.\n",
    "    3.2. \"Propomos\" a inversão de pixel: $Z^{(t+1)}_{ij} \\gets -Z^{(t)}_{ij} $.\n",
    "    3.3. Calculamos a probabilidade de aceitação\n",
    "    $\\alpha(i, j) = \\min\\left\\{ 1 , \\frac{p(Z^{(t+1)} \\mid X, \\beta, \\pi)}{p(Z^{(t)} \\mid X, \\beta, \\pi)} \\right\\}$\n",
    "    3.4. $Z^{(t+1)}_{ij} \\gets -Z^{(t)}_{ij}$ com probabilidade $\\alpha(i,j)$\n",
    "    3.5. $Z^{(t+1)}_{ij} \\gets Z^{(t)}_{ij}$, se 3.4 não foi aceito"
   ],
   "metadata": {
    "collapsed": false
   }
  },
  {
   "cell_type": "code",
   "execution_count": null,
   "metadata": {
    "collapsed": true
   },
   "outputs": [],
   "source": [
    "import numpy as np\n",
    "from matplotlib import pyplot as plt\n",
    "from pylab import rcParams\n",
    "\n",
    "rcParams['figure.figsize'] = 6, 6"
   ]
  },
  {
   "cell_type": "code",
   "execution_count": null,
   "outputs": [],
   "source": [
    "# carregando a mostrando a imagem com ruído\n",
    "X = np.loadtxt(\"./figures/lena_noisy.txt\")\n",
    "plt.imshow(X,cmap='gray',vmin=-1,vmax=1)\n",
    "plt.show()\n"
   ],
   "metadata": {
    "collapsed": false
   }
  },
  {
   "cell_type": "code",
   "execution_count": null,
   "outputs": [],
   "source": [
    "X # os valores dos pixels da imagem com ruído"
   ],
   "metadata": {
    "collapsed": false
   }
  },
  {
   "cell_type": "markdown",
   "source": [
    "#### O algoritmo em si"
   ],
   "metadata": {
    "collapsed": false
   }
  },
  {
   "cell_type": "code",
   "execution_count": null,
   "outputs": [],
   "source": [
    "def calculate_mcmc(beta: float, pi: float, gamma: float, T: int):\n",
    "    Z = X.copy() # Initialize Z from X\n",
    "    I, J = Z.shape\n",
    "    for t in range(T):\n",
    "        i,j = np.random.choice(I), np.random.choice(J) # randomly choose a coordinate (i,j)\n",
    "\n",
    "        # Calculate acceptance propability\n",
    "        # We don't take exponential. Instead, we take the log of random number. This is more stable.\n",
    "        delta_E = -2*gamma*X[i,j]*Z[i,j] -2*beta*Z[i,j]*(np.sum(Z[max(i-1,0):i+2,max(j-1,0):j+2]) - Z[i,j])\n",
    "\n",
    "        # We also don't deal with minimum function for acceptance probability\n",
    "        #   because we don't need to cast it to 1 if it is higher.\n",
    "\n",
    "        # Flip the pixel if accepted\n",
    "        if np.log(np.random.rand()) < delta_E:\n",
    "            Z[i,j] = - Z[i,j] # Update the image\n",
    "\n",
    "    fig, ax = plt.subplots(1,2, figsize=(16,8))\n",
    "    ax[0].imshow(X,cmap='gray',vmin=-1,vmax=1)\n",
    "    ax[0].set_title(\"Noisy\", fontsize=16)\n",
    "    ax[1].imshow(Z,cmap='gray',vmin=-1,vmax=1)\n",
    "    ax[1].set_title(\"Denoised\", fontsize=16)\n",
    "    plt.show()"
   ],
   "metadata": {
    "collapsed": false
   }
  },
  {
   "cell_type": "markdown",
   "source": [
    "#### Alguns exemplos de resultados, variando os parâmetros"
   ],
   "metadata": {
    "collapsed": false
   }
  },
  {
   "cell_type": "code",
   "execution_count": null,
   "outputs": [],
   "source": [
    "beta, pi  = 0.8, 0.15 # for arbitrary parameters that reflects our prior belief\n",
    "gamma = 0.5*np.log((1-pi)/pi)\n",
    "T = 5000000 # sufficient number of steps to converge stationary distribution\n",
    "\n",
    "calculate_mcmc(beta, pi, gamma, T)\n"
   ],
   "metadata": {
    "collapsed": false
   }
  },
  {
   "cell_type": "code",
   "execution_count": null,
   "outputs": [],
   "source": [
    "beta, pi  = 0.5, 0.3 # for arbitrary parameters that reflects our prior belief\n",
    "gamma = 0.5*np.log((1-pi)/pi)\n",
    "T = 5000000 # sufficient number of steps to converge stationary distribution\n",
    "\n",
    "calculate_mcmc(beta, pi, gamma, T)\n"
   ],
   "metadata": {
    "collapsed": false
   }
  },
  {
   "cell_type": "code",
   "execution_count": null,
   "outputs": [],
   "source": [
    "beta, pi  = 0.95, 0.1 # for arbitrary parameters that reflects our prior belief\n",
    "gamma = 0.5*np.log((1-pi)/pi)\n",
    "T = 5000000 # sufficient number of steps to converge stationary distribution\n",
    "\n",
    "calculate_mcmc(beta, pi, gamma, T)\n"
   ],
   "metadata": {
    "collapsed": false
   }
  },
  {
   "cell_type": "code",
   "execution_count": null,
   "outputs": [],
   "source": [
    "beta, pi  = -0.8, 0.15 # for arbitrary parameters that reflects our prior belief\n",
    "gamma = 0.5*np.log((1-pi)/pi)\n",
    "T = 5000000 # sufficient number of steps to converge stationary distribution\n",
    "\n",
    "calculate_mcmc(beta, pi, gamma, T)\n"
   ],
   "metadata": {
    "collapsed": false
   }
  },
  {
   "cell_type": "code",
   "execution_count": null,
   "outputs": [],
   "source": [
    "\n",
    "beta, pi = -0.1, 0.15  # for arbitrary parameters that reflects our prior belief\n",
    "gamma = 0.5 * np.log((1 - pi) / pi)\n",
    "T = 5000000  # sufficient number of steps to converge stationary distribution\n",
    "\n",
    "calculate_mcmc(beta, pi, gamma, T)\n"
   ],
   "metadata": {
    "collapsed": false
   }
  },
  {
   "cell_type": "code",
   "execution_count": null,
   "outputs": [],
   "source": [
    "\n",
    "beta, pi = 1.1, 0.15  # for arbitrary parameters that reflects our prior belief\n",
    "gamma = 0.5 * np.log((1 - pi) / pi)\n",
    "T = 5000000  # sufficient number of steps to converge stationary distribution\n",
    "\n",
    "calculate_mcmc(beta, pi, gamma, T)\n"
   ],
   "metadata": {
    "collapsed": false
   }
  },
  {
   "cell_type": "markdown",
   "source": [
    "### Algoritmo de Gibbs para remoção de ruídos\n"
   ],
   "metadata": {
    "collapsed": false
   }
  },
  {
   "cell_type": "markdown",
   "source": [
    "A linguagem matemática utilizada no livro torna um pouco confuso o entendimento, dado que a linguagem utilizada nos exemplos utiliza diferentes letras e nomes. Foquemos no que foi visto até o momento.\n",
    "\n",
    "Temos um grafo (podendo também ser visualizado como uma matriz), no qual cada vértice/elemento $ij$ possui um valor $+1$ ou $-1$; cada vértice está conectado com outros $4$ vértices vizinhos, com exceção das margens. No contexto de imagens, temos uma imagem $X$ com ruído, e nosso objetivo é encontrar a imagem $Z$ original, que nos é desconhecida; valendo ainda os conceitos de $+1$ e $-1$ para pixels pretos e brancos, respectivamente.\n",
    "\n",
    "Essa remoção de ruído pode ser vista como uma estimativa máxima a posteriori da distribuição $P(Z|X)$. Pelo Teorema de Bayes, temos que $P(Z|X) = \\frac{P(X|Z)P(Z)}{P(X)}$, podendo ser reescrito no espaço logarítmico:\n",
    "\n",
    "$$\n",
    "$\\log{P(Z|X)} = \\log{P(X|Z)} + \\log{P(Z)} - \\log{P(X)}$\n",
    "$$\n",
    "\n",
    "Como $X$ é conhecido, basta minimizarmos $- \\log{P(X|Z)} - \\log{P(Z)}$"
   ],
   "metadata": {
    "collapsed": false
   }
  },
  {
   "cell_type": "markdown",
   "source": [
    "Pela definição da entrada do algoritmo, podemos considerar que cada pixel $Z_{ij}$ está conectado com 4 vizinhos, adicionalmente de um elemento $X_{ij}$, que é o ruído. Dados esses vizinhos, podemos determinar a distribuição de $Z_{ij}$; as bordas não possuem essa quantidade, mas adicionamos \"vizinhos nulos\" para uma maior facilidade na implementação.\n",
    "\n",
    "Então para calcular, por exemplo, a probabilidade de $Z_{ij} = +1$ (ser preto), temos:\n",
    "$$\n",
    "P(Z_{ij} = +1 | X) = \\frac{1}{k}exp(\\alpha \\sum_{i} \\sum_{j} X_{ij}Z_{ij} + \\beta \\sum_{i'j' \\in N(ij)} Z_{ij}Z_{i'j'})\n",
    "$$\n",
    "Onde $k$ é a constante de normalização, $\\alpha$ e $\\beta$ são os hiperparâmetros e $N(ij$) são os vizinhos de $Z_{ij}$ diferentes de $X_{ij}$\n",
    "\n",
    "Já aplicando no espaço logarítmico, temos:\n",
    "$$\n",
    "-\\log{P(X|Z)} - \\log{P(Z)} = -\\alpha \\sum_{i} \\sum_{j} X_{ij}Z_{ij} - \\beta \\sum_{i'j' \\in N(ij)} Z_{ij}Z_{i'j'}\n",
    "$$"
   ],
   "metadata": {
    "collapsed": false
   }
  },
  {
   "cell_type": "markdown",
   "source": [
    "Pelo Teorema de Bayes, podemos derivar que:\n",
    "$$\n",
    "P(Z_{ij} = +1 | Z_{N(i,j)}, X_{ij}) = \\frac{1}{1 + exp(-2 \\alpha X_{ij} + \\beta \\sum_{N(ij)} Z_{N(ij)})\n",
    "$$"
   ],
   "metadata": {
    "collapsed": false
   }
  },
  {
   "cell_type": "markdown",
   "source": [
    "- $Z_{ij}$: pixel $ij$;\n",
    "- $Z_{N(i,j)}$: vizinhos de $Z_{ij}$, diferentes de $X_{ij}$;\n",
    "- $X_{ij}$: pixel $ij$ da imagem com ruído."
   ],
   "metadata": {
    "collapsed": false
   }
  },
  {
   "cell_type": "markdown",
   "source": [
    "#### Pseudocódigo para o algoritmo de Gibbs:\n",
    "\n",
    "1. Inicializamos $Z$ de forma aleatória, com o mesmo shape de $X$;\n",
    "2. Inicializamos $T$ como uma matriz de $0's$ # ela guardará as probabilidades a posteriori\n",
    "3. totalsamples $\\gets$ número de amostras que queremos simular\n",
    "4. burn_in steps $\\gets$ número mínimo para considerarmos que a cadeia convergiu\n",
    "5. Para cada passo $t$:\n",
    "    Para cada $Z_{ij}$ em $Z$:\n",
    "        - Amostre $Z_{ij}$ baseado em $P(Z_{ij} | Z_{N(i,j)}, X_{ij})$\n",
    "        - Atualize o valor de $Z_{ij}$\n",
    "        - Se $t >$ burn in steps e $Z_{ij} = 1$, então $T_{ij} \\gets T_{ij} + 1$\n",
    "6. $T \\gets T / totalsamples$ # normalizando\n",
    "7. $Z \\gets$ matriz de elementos iguais a $-1$\n",
    "8. Para cada $T_{ij}$:\n",
    "    Se $T_{ij} > p$, então $Z_{ij} \\gets +1$ # onde $p$ é uma probabilidade mínima\n",
    "9. Retorne $Z$ # que é a imagem sem ruído"
   ],
   "metadata": {
    "collapsed": false
   }
  },
  {
   "cell_type": "markdown",
   "source": [
    "Em alguns casos, é possível utilizar uma probabilidade de aceitação é sempre $1$, incorporando-a dentro da matriz de proposta:\n",
    "\n",
    "- Geramos uma proposta $j$;\n",
    "- Calculamos a probabilidade de aceitação $a(i,j)$;\n",
    "- Incorporamos essa probabilidade na matriz: $T_{ij} = \\gets a(i,j)T_{ij}$\n",
    "- Aceitamos a proposta com probabilidade $1$, já que ela já foi incorporada na matriz de proposta.\n",
    "\n",
    "\n",
    "Apesar de se proporem a resolver um mesmo problema, e fazerem isso com eficiência (vide os exemplos dos links), elas são soluções diferentes, ainda que sejam parecidas. O algoritmo de Gibbs atualiza cada pixel condicionalmente aos pixels vizinhos, não envolvendo uma probabilidade de aceitação; não há a etapa probabilística de aceitação ou rejeição, como utilizada no Metropolis-Hastings.\n"
   ],
   "metadata": {
    "collapsed": false
   }
  },
  {
   "cell_type": "markdown",
   "source": [
    "### Criptografia\n"
   ],
   "metadata": {
    "collapsed": false
   }
  },
  {
   "cell_type": "markdown",
   "source": [
    "Consideramos apenas o caso trivial em que um texto é criptografado utilizando uma função que mapeia uma letra do alfabeto para outra letra do alfabeto. A implementação consiste em um passeio aleatório em um conjunto de funções de encoding: dado $f$, a função de proposta $f*$ é gerada escolhendo-se duas letras do alfabeto aleatoriamente e trocando seus valores mapeados em $f$.\n",
    "\n",
    "Temos:\n",
    "\n",
    "1. Inicialize com uma função de encoding $f$, por simplicidade escolhida como a função identidade.\n",
    "2. Selecione duas letras aleatoriamente de forma uniforme e troque entre si os valores que $f$ mapeia para essas letras, obtendo uma proposta $f*$;\n",
    "3. Calcule a função de aceitação $a(f, f*) = \\frac{score(f*)}{score(f)}$\n",
    "4. Considere $U$ uniformemente distribuída em $(0, 1)$. Se $U \\leq a(f,f*)$, $f*$ é aceita; se não, permanecemos com $f$.\n",
    "\n",
    "Onde o $score$ de uma função $f$ é o produto de todos os pares de letras sucessivos no texto \"de treinamento\" $f(c_i), f(c_{i+1})$, $c_i$ é uma letra na posição $i$ em um texto.\n",
    "\n",
    "A mensagem criptografada do exemplo do livro possui $320$  letras, ou seja, temos $(c_1, ..., c_{320})$. O score é dado por:\n",
    "$$\n",
    "score(f) = \\prod_{i=1}^{319} M_{f(c_i),f(c_{i+1})}\n",
    "$$\n",
    "\n",
    "$M$ é a matriz de transição, indexada por $(a,b,...,z,[espaço])$"
   ],
   "metadata": {
    "collapsed": false
   }
  },
  {
   "cell_type": "markdown",
   "source": [
    "Após um número grande de iterações, a função obtida conseguirá resgatar a mensagem original, mapeando corretamente cada letra da mensagem criptografada para a letra do texto verdadeiro."
   ],
   "metadata": {
    "collapsed": false
   }
  },
  {
   "cell_type": "markdown",
   "source": [
    "### MCMC contínuo\n"
   ],
   "metadata": {
    "collapsed": false
   }
  },
  {
   "cell_type": "markdown",
   "source": [
    "O comprimento do intervalo de distribuição é importante para a convergência e para a eficiência de amostragens: ele afeta diretamente a quantidade de propostas aceitas.\n",
    "\n",
    "Se o comprimento do intervalo de distribuição for muito pequeno, as propostas geradas podem não explorar e amostrar totalmente o espaço amostral, dado que o algoritmo pode ter uma taxa de aceitação baixa, devido à baixa probabilidade de aceitação; além de uma convergência lenta.\n",
    "\n",
    "Se o comprimento do intervalo de distribuição for muito grande, as propostas geradas podem ser aceitas com mais frequência do que o ideal, levando a amostragens com espaçamento muito grande do espaço amostral, tornando a exploração da distribuição incompleta e enviesada."
   ],
   "metadata": {
    "collapsed": false
   }
  },
  {
   "cell_type": "markdown",
   "source": [
    "#### Algoritmo como descrito no livro, com intervalo $2$"
   ],
   "metadata": {
    "collapsed": false
   }
  },
  {
   "cell_type": "code",
   "execution_count": 33,
   "outputs": [
    {
     "data": {
      "text/plain": "<Figure size 600x600 with 1 Axes>",
      "image/png": "[encoded data removed]"
     },
     "metadata": {},
     "output_type": "display_data"
    }
   ],
   "source": [
    "import numpy as np\n",
    "import matplotlib.pyplot as plt\n",
    "\n",
    "trials = 1000000\n",
    "simlist = np.zeros(trials)\n",
    "state = 0\n",
    "\n",
    "for i in range(2, trials):\n",
    "    prop = np.random.uniform(state - 1, state + 1)\n",
    "    acc = np.exp(-((prop ** 2 - state ** 2) / 2))\n",
    "\n",
    "    if np.random.uniform() < acc:\n",
    "        state = prop\n",
    "\n",
    "    simlist[i] = state\n",
    "\n",
    "plt.hist(simlist, density=True)\n",
    "plt.xlabel(\"\")\n",
    "plt.title(\"\")\n",
    "plt.plot(np.linspace(-4, 4, 100), np.exp(-np.linspace(-4, 4, 100) ** 2 / 2) / np.sqrt(2 * np.pi), 'r')\n",
    "plt.show()"
   ],
   "metadata": {
    "collapsed": false,
    "ExecuteTime": {
     "end_time": "2023-07-10T00:59:34.074021107Z",
     "start_time": "2023-07-10T00:59:31.625807283Z"
    }
   }
  },
  {
   "cell_type": "markdown",
   "source": [
    "#### Alterando o intervalo para $0.02$"
   ],
   "metadata": {
    "collapsed": false
   }
  },
  {
   "cell_type": "code",
   "execution_count": 36,
   "outputs": [
    {
     "data": {
      "text/plain": "<Figure size 600x600 with 1 Axes>",
      "image/png": "[encoded data removed]"
     },
     "metadata": {},
     "output_type": "display_data"
    }
   ],
   "source": [
    "import numpy as np\n",
    "import matplotlib.pyplot as plt\n",
    "\n",
    "trials = 1000000\n",
    "simlist = np.zeros(trials)\n",
    "state = 0\n",
    "\n",
    "for i in range(2, trials):\n",
    "    prop = np.random.uniform(state - 0.01, state + 0.01)\n",
    "    acc = np.exp(-((prop ** 2 - state ** 2) / 2))\n",
    "\n",
    "    if np.random.uniform() < acc:\n",
    "        state = prop\n",
    "\n",
    "    simlist[i] = state\n",
    "\n",
    "plt.hist(simlist, density=True)\n",
    "plt.xlabel(\"\")\n",
    "plt.title(\"\")\n",
    "plt.plot(np.linspace(-4, 4, 100), np.exp(-np.linspace(-4, 4, 100) ** 2 / 2) / np.sqrt(2 * np.pi), 'r')\n",
    "plt.show()\n"
   ],
   "metadata": {
    "collapsed": false,
    "ExecuteTime": {
     "end_time": "2023-07-10T01:02:19.816189757Z",
     "start_time": "2023-07-10T01:02:17.415295982Z"
    }
   }
  },
  {
   "cell_type": "markdown",
   "source": [
    "#### Alterando o intervalo para $100$.\n",
    "\n",
    "Podemos notar que a distribuição normal padrão é um caso especial que não é drasticamente afetado. O mesmo resultado é obtido para quaisquer valores de comprimento do intervalo."
   ],
   "metadata": {
    "collapsed": false
   }
  },
  {
   "cell_type": "code",
   "execution_count": 48,
   "outputs": [
    {
     "data": {
      "text/plain": "<Figure size 600x600 with 1 Axes>",
      "image/png": "[encoded data removed]"
     },
     "metadata": {},
     "output_type": "display_data"
    }
   ],
   "source": [
    "import numpy as np\n",
    "import matplotlib.pyplot as plt\n",
    "\n",
    "trials = 1000000\n",
    "simlist = np.zeros(trials)\n",
    "state = 0\n",
    "\n",
    "for i in range(2, trials):\n",
    "    prop = np.random.uniform(state - 50.0, state + 50.0)\n",
    "    acc = np.exp(-((prop ** 2 - state ** 2) / 2))\n",
    "\n",
    "    if np.random.uniform() < acc:\n",
    "        state = prop\n",
    "\n",
    "    simlist[i] = state\n",
    "\n",
    "plt.hist(simlist, density=True)\n",
    "plt.xlabel(\"\")\n",
    "plt.title(\"\")\n",
    "plt.plot(np.linspace(-20, 20, 100), np.exp(-np.linspace(-20, 20, 100) ** 2 / 2) / np.sqrt(2 * np.pi), 'r')\n",
    "plt.show()\n"
   ],
   "metadata": {
    "collapsed": false,
    "ExecuteTime": {
     "end_time": "2023-07-10T01:12:34.615166236Z",
     "start_time": "2023-07-10T01:12:32.195556452Z"
    }
   }
  },
  {
   "cell_type": "markdown",
   "source": [
    "Explique como funciona o método de MCMC para tirar amostras de uma variável Gaussiana: qual o papel do estado atual no algoritmo? Qual a adaptação que foi feita no algoritmo MCMC para que ele consiga tirar amostras de distribuições contínuas ao invés de discretas?\n",
    "\n",
    "No MCMC contínuo, a distribuição $\\pi$ é uma função densidade de probabilidade, e a transição é dada por uma *função de transição*, ao invés de uma matriz de transição, onde $P_{ij}$ é o valor da função densidade condicionado a $X_0 = i$\n",
    "\n",
    "O estado atual é de suma importância pois é a partir dele que iremos propor outro estado: a cada iteração, o algoritmo propõe um novo estado com base no estado atual; essa proposta é calculada a partir de uma distribuição de proposta, que nesse caso é uma distribuição uniforme centrada no estado atual. Calculamos então a aceitação e a usamos para aceitar ou rejeitar esse novo estado proposto.\n",
    "\n",
    "A adaptação feita foi a possibilidade de distribuições contínuas nas propostas de transição, que é o caso do exemplo do livro."
   ],
   "metadata": {
    "collapsed": false
   }
  },
  {
   "cell_type": "markdown",
   "source": [
    "#### Amostras de uma outra distribuição\n",
    "\n",
    "A função densidade de probabilidade da distribuição dada é:\n",
    "\n",
    "$f(\\rho) = \\frac{\\rho^y (1-\\rho)^n}{K}$, se $0 < \\rho < 1$\n",
    "$f(\\rho) = 0$ se $\\rho \\leq 0$ ou $\\rho \\geq 1$\n"
   ],
   "metadata": {
    "collapsed": false
   }
  },
  {
   "cell_type": "code",
   "execution_count": 61,
   "outputs": [],
   "source": [
    "import numpy as np\n",
    "import matplotlib.pyplot as plt\n",
    "\n",
    "def sample(y: float, n: float, K: float = 1.0):\n",
    "    \"\"\"\n",
    "    :param y: Constante dada pelo usuário.\n",
    "    :param n: Constante dada pelo usuário.\n",
    "    :param K: Constante a ser calculada.\n",
    "    \"\"\"\n",
    "\n",
    "    trials = 1000000\n",
    "    simlist = np.zeros(trials)\n",
    "    state = 0.5\n",
    "\n",
    "    for i in range(2, trials):\n",
    "        prop = np.random.uniform(state - 0.3, state + 0.3) # deixando o comprimento igual a 0.6\n",
    "        acc = (np.power(prop, y) * np.power(1-prop, n) / K) / (np.power(state, y) * np.power(1-state, n) / K)\n",
    "\n",
    "        if np.random.uniform() < acc:\n",
    "            state = prop\n",
    "\n",
    "        simlist[i] = state\n",
    "\n",
    "    plt.hist(simlist, density=True)\n",
    "    plt.xlabel(\"\")\n",
    "    plt.title(\"\")\n",
    "    plt.show()\n"
   ],
   "metadata": {
    "collapsed": false,
    "ExecuteTime": {
     "end_time": "2023-07-10T02:00:33.558777556Z",
     "start_time": "2023-07-10T02:00:33.518486220Z"
    }
   }
  },
  {
   "cell_type": "code",
   "execution_count": 62,
   "outputs": [
    {
     "name": "stderr",
     "output_type": "stream",
     "text": [
      "/tmp/ipykernel_12008/2869188889.py:17: RuntimeWarning: invalid value encountered in power\n",
      "  acc = (np.power(prop, y) * np.power(1-prop, n) / K) / (np.power(state, y) * np.power(1-state, n) / K)\n"
     ]
    },
    {
     "data": {
      "text/plain": "<Figure size 600x600 with 1 Axes>",
      "image/png": "[encoded data removed]"
     },
     "metadata": {},
     "output_type": "display_data"
    }
   ],
   "source": [
    "# valores arbitrários\n",
    "sample(y=0.5, n=1.0)"
   ],
   "metadata": {
    "collapsed": false,
    "ExecuteTime": {
     "end_time": "2023-07-10T02:00:37.538293264Z",
     "start_time": "2023-07-10T02:00:33.691373612Z"
    }
   }
  },
  {
   "cell_type": "code",
   "execution_count": null,
   "outputs": [],
   "source": [],
   "metadata": {
    "collapsed": false
   }
  }
 ],
 "metadata": {
  "kernelspec": {
   "display_name": "Python 3",
   "language": "python",
   "name": "python3"
  },
  "language_info": {
   "codemirror_mode": {
    "name": "ipython",
    "version": 2
   },
   "file_extension": ".py",
   "mimetype": "text/x-python",
   "name": "python",
   "nbconvert_exporter": "python",
   "pygments_lexer": "ipython2",
   "version": "2.7.6"
  }
 },
 "nbformat": 4,
 "nbformat_minor": 0
}
