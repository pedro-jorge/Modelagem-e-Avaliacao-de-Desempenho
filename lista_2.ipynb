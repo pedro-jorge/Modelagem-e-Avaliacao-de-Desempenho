{
 "cells": [
  {
   "cell_type": "code",
   "execution_count": 796,
   "metadata": {},
   "outputs": [
    {
     "name": "stderr",
     "output_type": "stream",
     "text": [
      "\u001b[32m\u001b[1m   Resolving\u001b[22m\u001b[39m package versions...\n",
      "\u001b[32m\u001b[1m  No Changes\u001b[22m\u001b[39m to `~/.julia/environments/v1.9/Project.toml`\n",
      "\u001b[32m\u001b[1m  No Changes\u001b[22m\u001b[39m to `~/.julia/environments/v1.9/Manifest.toml`\n"
     ]
    }
   ],
   "source": [
    "using Pkg\n",
    "Pkg.add(\"DataFrames\")\n",
    "using DataFrames\n",
    "using LinearAlgebra"
   ]
  },
  {
   "cell_type": "markdown",
   "metadata": {},
   "source": [
    "### Implementação das substituições reversa e direta"
   ]
  },
  {
   "cell_type": "code",
   "execution_count": 797,
   "metadata": {},
   "outputs": [
    {
     "data": {
      "text/plain": [
       "backward_subs (generic function with 1 method)"
      ]
     },
     "metadata": {},
     "output_type": "display_data"
    }
   ],
   "source": [
    "function backward_subs(U, b)\n",
    "    \"\"\"\n",
    "    U: matriz triangular superior nxn com elementos na diagonal diferentes de 0\n",
    "    b: um vetor nx1\n",
    "    \"\"\"\n",
    "    # pegando o tamanho n que precisamos\n",
    "    n = size(b)[1]\n",
    "    # para guardar o resultado\n",
    "    x = zeros(n)\n",
    "    # para iteração\n",
    "    rows = eachrow(U)\n",
    "\n",
    "    for i in reverse(eachindex(rows)) # for n, n-1...\n",
    "        x[i] = b[i]\n",
    "        for j in reverse(i+1:n) # realizando as subtrações de cada elemento que já conhecemos\n",
    "            x[i] = x[i] - U[i, j]*x[j]\n",
    "        end\n",
    "        x[i] = x[i] / U[i, i] # realizando a divisão para encontrar x[i]\n",
    "    end\n",
    "\n",
    "    return x\n",
    "end"
   ]
  },
  {
   "cell_type": "code",
   "execution_count": 798,
   "metadata": {},
   "outputs": [
    {
     "data": {
      "text/plain": [
       "1.1102230246251565e-16"
      ]
     },
     "metadata": {},
     "output_type": "display_data"
    }
   ],
   "source": [
    "# definindo o tamanho do sistema\n",
    "n = 4\n",
    "# gerando uma matriz aleatória de tamanho n\n",
    "U = randn(n, n)\n",
    "# tornando a matriz aleatória uma triangular superior\n",
    "U = [i <= j ? U[i, j] : 0 for i in 1:n, j in 1:n]\n",
    "# definindo um vetor aleatorio x para multiplicar U\n",
    "x = randn(n)\n",
    "b = U*x\n",
    "\n",
    "x=backward_subs(U, b)\n",
    "# verificando se o resultado está correto\n",
    "# utilizando a função norm devido aos erros numéricos\n",
    "norm(U*x - b)"
   ]
  },
  {
   "cell_type": "code",
   "execution_count": 799,
   "metadata": {},
   "outputs": [
    {
     "data": {
      "text/plain": [
       "forward_subs (generic function with 1 method)"
      ]
     },
     "metadata": {},
     "output_type": "display_data"
    }
   ],
   "source": [
    "function forward_subs(L, b)\n",
    "    \"\"\"\n",
    "    L: matriz triangular inferior nxn com elementos na diagonal diferentes de 0\n",
    "    b: um vetor nx1\n",
    "    \"\"\"\n",
    "    # pegando o tamanho n que precisamos\n",
    "    n = size(b)[1]\n",
    "    # para guardar o resultado\n",
    "    x = zeros(n)\n",
    "    # para iteração\n",
    "    for i in 1:n # for 1, 2...\n",
    "        x[i] = b[i]\n",
    "        for j in 1:i-1 # realizando as subtrações de cada elemento que já conhecemos\n",
    "            x[i] = x[i] - L[i, j]*x[j]\n",
    "        end\n",
    "        x[i] = x[i] / L[i, i] # realizando a divisão para encontrar x[i]\n",
    "    end\n",
    "\n",
    "    return x\n",
    "end"
   ]
  },
  {
   "cell_type": "code",
   "execution_count": 800,
   "metadata": {},
   "outputs": [
    {
     "data": {
      "text/plain": [
       "2.220446049250313e-16"
      ]
     },
     "metadata": {},
     "output_type": "display_data"
    }
   ],
   "source": [
    "# definindo o tamanho do sistema\n",
    "n = 5\n",
    "# gerando uma matriz aleatória de tamanho n\n",
    "L = randn(n, n)\n",
    "# tornando a matriz aleatória uma triangular inferior\n",
    "L = [i >= j ? L[i, j] : 0 for i in 1:n, j in 1:n]\n",
    "# definindo um vetor aleatorio x para multiplicar L\n",
    "x = randn(n)\n",
    "b = L*x\n",
    "\n",
    "x=forward_subs(L, b)\n",
    "# verificando se o resultado está correto\n",
    "# utilizando a função norm devido aos erros numéricos\n",
    "norm(L*x - b)"
   ]
  },
  {
   "cell_type": "markdown",
   "metadata": {},
   "source": [
    "### Questão 1"
   ]
  },
  {
   "cell_type": "markdown",
   "metadata": {},
   "source": [
    "Construindo a matriz de usuários: cada linha representa um usuário, cada coluna representa um gênero de filme (romance e ação, respectivamente)."
   ]
  },
  {
   "cell_type": "code",
   "execution_count": 801,
   "metadata": {},
   "outputs": [
    {
     "data": {
      "text/plain": [
       "5×2 Matrix{Float64}:\n",
       " 0.9  0.1\n",
       " 0.8  0.2\n",
       " 0.3  0.7\n",
       " 0.6  0.4\n",
       " 0.0  1.0"
      ]
     },
     "metadata": {},
     "output_type": "display_data"
    }
   ],
   "source": [
    "users_labels = [\"A\", \"B\", \"C\", \"D\", \"E\"]\n",
    "users = [0.9 0.1; 0.8 0.2; 0.3 0.7; 0.6 0.4; 0.0 1.0]"
   ]
  },
  {
   "cell_type": "code",
   "execution_count": 802,
   "metadata": {},
   "outputs": [
    {
     "name": "stdout",
     "output_type": "stream",
     "text": [
      "User A: [0.9, 0.1]\n",
      "User B: [0.8, 0.2]\n",
      "User C: [0.3, 0.7]\n",
      "User D: [0.6, 0.4]\n",
      "User E: [0.0, 1.0]\n"
     ]
    }
   ],
   "source": [
    "# usuário e seus gostos (o primeiro elemento é para romance, o segundo para ação)\n",
    "for (user_label, preference) in zip(users_labels, eachrow(users))\n",
    "    println(\"User $user_label: $preference\")\n",
    "end"
   ]
  },
  {
   "cell_type": "markdown",
   "metadata": {},
   "source": [
    "Construindo a matriz de filmes: cada linha representa um filme, cada coluna representa um gênero (romance e ação, respectivamente)."
   ]
  },
  {
   "cell_type": "code",
   "execution_count": 803,
   "metadata": {},
   "outputs": [
    {
     "data": {
      "text/plain": [
       "5×2 Matrix{Float64}:\n",
       " 0.9  0.1\n",
       " 0.1  0.9\n",
       " 0.5  0.5\n",
       " 0.0  1.0\n",
       " 0.2  0.8"
      ]
     },
     "metadata": {},
     "output_type": "display_data"
    }
   ],
   "source": [
    "movies_labels = [\"Titanic\", \"Rocky\", \"The Hobbit\", \"Fight Club\", \"Jurassic Park\"]\n",
    "movies = [0.9 0.1; 0.1 0.9; 0.5 0.5; 0.0 1.0; 0.2 0.8]"
   ]
  },
  {
   "cell_type": "code",
   "execution_count": 804,
   "metadata": {},
   "outputs": [
    {
     "name": "stdout",
     "output_type": "stream",
     "text": [
      "Titanic: [0.9, 0.1]\n",
      "Rocky: [0.1, 0.9]\n",
      "The Hobbit: [0.5, 0.5]\n",
      "Fight Club: [0.0, 1.0]\n",
      "Jurassic Park: [0.2, 0.8]\n"
     ]
    }
   ],
   "source": [
    "# filmes e seu pertencimento nos gêneros\n",
    "# cada elemento é um gênero de filme (romance e ação, respectivamente)\n",
    "for (movie_label, genres) in zip(movies_labels, eachrow(movies))\n",
    "    println(\"$movie_label: $genres\")\n",
    "end"
   ]
  },
  {
   "cell_type": "markdown",
   "metadata": {},
   "source": [
    "Matematicamente, sabemos da impossibilidade de multiplicação das matrizes, já que temos uma $M_{users}$ $\\in \\mathbb{R}^{5\\times2}$ e uma $M_{movies}$ $\\in \\mathbb{R}^{5\\times2}$. Sabemos também que a multiplicação matricial irá operar sobre linha $\\times$ coluna. \n",
    "\n",
    "Nossa matriz de usuários está construída de forma que as linhas sejam cada usuário e as colunas representem seus gostos em relação aos gêneros de filme. Se a matriz de filme estivesse construída de forma que as colunas representassem os filmes, intuitivamente faria sentido a relação usuárioXfilme, já que seria linha $\\times$ coluna.\n",
    "\n",
    "Podemos fazer $M_{users}M_{movies}^{T}$, o que representa a afinidade dos gêneros relacionados a cada usuário com os gêneros relacionados a cada filme, fazendo a relação usuárioXfilme."
   ]
  },
  {
   "cell_type": "code",
   "execution_count": 805,
   "metadata": {},
   "outputs": [
    {
     "data": {
      "text/plain": [
       "2×5 adjoint(::Matrix{Float64}) with eltype Float64:\n",
       " 0.9  0.1  0.5  0.0  0.2\n",
       " 0.1  0.9  0.5  1.0  0.8"
      ]
     },
     "metadata": {},
     "output_type": "display_data"
    }
   ],
   "source": [
    "# construindo a transposta da matriz de filmes\n",
    "movies'"
   ]
  },
  {
   "cell_type": "markdown",
   "metadata": {},
   "source": [
    "Temos agora uma matriz de filmes que está em $\\mathbb{R}^{2\\times5}$. Cada linha representa um gênero (romance e ação, respectivamente) e cada coluna representa um filme. \n",
    "\n",
    "Sendo assim, a relação usuário $\\times$ filme é expressa pelo produto linha $\\times$ coluna, que relacionará os gostos de gênero de um usuário com os gêneros de um filme.\n",
    "\n",
    "A seguir, uma exemplificação."
   ]
  },
  {
   "cell_type": "code",
   "execution_count": 806,
   "metadata": {},
   "outputs": [
    {
     "data": {
      "text/plain": [
       "1×2 Matrix{Float64}:\n",
       " 0.9  0.1"
      ]
     },
     "metadata": {},
     "output_type": "display_data"
    }
   ],
   "source": [
    "# uma matriz 1x2: uma linha (usuário A) e duas colunas (gostos para romance e ação)\n",
    "user_a = [0.9 0.1]"
   ]
  },
  {
   "cell_type": "code",
   "execution_count": 807,
   "metadata": {},
   "outputs": [
    {
     "data": {
      "text/plain": [
       "2-element Vector{Float64}:\n",
       " 0.9\n",
       " 0.1"
      ]
     },
     "metadata": {},
     "output_type": "display_data"
    }
   ],
   "source": [
    "# um vetor de 2x1: duas linhas (valores para a afinidade dos gêneros romance e ação no filme) e uma coluna (filme Titanic)\n",
    "titanic = [0.9, 0.1]"
   ]
  },
  {
   "cell_type": "code",
   "execution_count": 808,
   "metadata": {},
   "outputs": [
    {
     "data": {
      "text/plain": [
       "1-element Vector{Float64}:\n",
       " 0.8200000000000001"
      ]
     },
     "metadata": {},
     "output_type": "display_data"
    }
   ],
   "source": [
    "# produto entre matriz e vetor, que nos dá a informação sobre a possível afinidade do usuário A com o filme titanic, a partir dos dados anteriormente destacados\n",
    "user_a * titanic"
   ]
  },
  {
   "cell_type": "markdown",
   "metadata": {},
   "source": [
    "Sabemos que a multiplicação matricial irá repetir esse processo linha $\\times$ coluna. Podemos executar a operação e entender os dados:"
   ]
  },
  {
   "cell_type": "code",
   "execution_count": 809,
   "metadata": {},
   "outputs": [
    {
     "data": {
      "text/plain": [
       "5×5 Matrix{Float64}:\n",
       " 0.82  0.18  0.5  0.1  0.26\n",
       " 0.74  0.26  0.5  0.2  0.32\n",
       " 0.34  0.66  0.5  0.7  0.62\n",
       " 0.58  0.42  0.5  0.4  0.44\n",
       " 0.1   0.9   0.5  1.0  0.8"
      ]
     },
     "metadata": {},
     "output_type": "display_data"
    }
   ],
   "source": [
    "M = users * movies'"
   ]
  },
  {
   "cell_type": "markdown",
   "metadata": {},
   "source": [
    "Cada linha representa um usuário e cada coluna representa um filme. O valor $M[user][movie]$ da matriz informa a possível afinidade de um determinado usuário com um determinado filme."
   ]
  },
  {
   "cell_type": "code",
   "execution_count": 810,
   "metadata": {},
   "outputs": [
    {
     "data": {
      "text/html": [
       "<div><div style = \"float: left;\"><span>5×6 DataFrame</span></div><div style = \"clear: both;\"></div></div><div class = \"data-frame\" style = \"overflow-x: scroll;\"><table class = \"data-frame\" style = \"margin-bottom: 6px;\"><thead><tr class = \"header\"><th class = \"rowNumber\" style = \"font-weight: bold; text-align: right;\">Row</th><th style = \"text-align: left;\">User</th><th style = \"text-align: left;\">Titanic</th><th style = \"text-align: left;\">Rocky</th><th style = \"text-align: left;\">The Hobbit</th><th style = \"text-align: left;\">Fight Club</th><th style = \"text-align: left;\">Jurassic Park</th></tr><tr class = \"subheader headerLastRow\"><th class = \"rowNumber\" style = \"font-weight: bold; text-align: right;\"></th><th title = \"String\" style = \"text-align: left;\">String</th><th title = \"Float64\" style = \"text-align: left;\">Float64</th><th title = \"Float64\" style = \"text-align: left;\">Float64</th><th title = \"Float64\" style = \"text-align: left;\">Float64</th><th title = \"Float64\" style = \"text-align: left;\">Float64</th><th title = \"Float64\" style = \"text-align: left;\">Float64</th></tr></thead><tbody><tr><td class = \"rowNumber\" style = \"font-weight: bold; text-align: right;\">1</td><td style = \"text-align: left;\">A</td><td style = \"text-align: right;\">0.82</td><td style = \"text-align: right;\">0.18</td><td style = \"text-align: right;\">0.5</td><td style = \"text-align: right;\">0.1</td><td style = \"text-align: right;\">0.26</td></tr><tr><td class = \"rowNumber\" style = \"font-weight: bold; text-align: right;\">2</td><td style = \"text-align: left;\">B</td><td style = \"text-align: right;\">0.74</td><td style = \"text-align: right;\">0.26</td><td style = \"text-align: right;\">0.5</td><td style = \"text-align: right;\">0.2</td><td style = \"text-align: right;\">0.32</td></tr><tr><td class = \"rowNumber\" style = \"font-weight: bold; text-align: right;\">3</td><td style = \"text-align: left;\">C</td><td style = \"text-align: right;\">0.34</td><td style = \"text-align: right;\">0.66</td><td style = \"text-align: right;\">0.5</td><td style = \"text-align: right;\">0.7</td><td style = \"text-align: right;\">0.62</td></tr><tr><td class = \"rowNumber\" style = \"font-weight: bold; text-align: right;\">4</td><td style = \"text-align: left;\">D</td><td style = \"text-align: right;\">0.58</td><td style = \"text-align: right;\">0.42</td><td style = \"text-align: right;\">0.5</td><td style = \"text-align: right;\">0.4</td><td style = \"text-align: right;\">0.44</td></tr><tr><td class = \"rowNumber\" style = \"font-weight: bold; text-align: right;\">5</td><td style = \"text-align: left;\">E</td><td style = \"text-align: right;\">0.1</td><td style = \"text-align: right;\">0.9</td><td style = \"text-align: right;\">0.5</td><td style = \"text-align: right;\">1.0</td><td style = \"text-align: right;\">0.8</td></tr></tbody></table></div>"
      ],
      "text/latex": [
       "\\begin{tabular}{r|cccccc}\n",
       "\t& User & Titanic & Rocky & The Hobbit & Fight Club & Jurassic Park\\\\\n",
       "\t\\hline\n",
       "\t& String & Float64 & Float64 & Float64 & Float64 & Float64\\\\\n",
       "\t\\hline\n",
       "\t1 & A & 0.82 & 0.18 & 0.5 & 0.1 & 0.26 \\\\\n",
       "\t2 & B & 0.74 & 0.26 & 0.5 & 0.2 & 0.32 \\\\\n",
       "\t3 & C & 0.34 & 0.66 & 0.5 & 0.7 & 0.62 \\\\\n",
       "\t4 & D & 0.58 & 0.42 & 0.5 & 0.4 & 0.44 \\\\\n",
       "\t5 & E & 0.1 & 0.9 & 0.5 & 1.0 & 0.8 \\\\\n",
       "\\end{tabular}\n"
      ],
      "text/plain": [
       "\u001b[1m5×6 DataFrame\u001b[0m\n",
       "\u001b[1m Row \u001b[0m│\u001b[1m User   \u001b[0m\u001b[1m Titanic \u001b[0m\u001b[1m Rocky   \u001b[0m\u001b[1m The Hobbit \u001b[0m\u001b[1m Fight Club \u001b[0m\u001b[1m Jurassic Park \u001b[0m\n",
       "     │\u001b[90m String \u001b[0m\u001b[90m Float64 \u001b[0m\u001b[90m Float64 \u001b[0m\u001b[90m Float64    \u001b[0m\u001b[90m Float64    \u001b[0m\u001b[90m Float64       \u001b[0m\n",
       "─────┼─────────────────────────────────────────────────────────────────\n",
       "   1 │ A          0.82     0.18         0.5         0.1           0.26\n",
       "   2 │ B          0.74     0.26         0.5         0.2           0.32\n",
       "   3 │ C          0.34     0.66         0.5         0.7           0.62\n",
       "   4 │ D          0.58     0.42         0.5         0.4           0.44\n",
       "   5 │ E          0.1      0.9          0.5         1.0           0.8"
      ]
     },
     "metadata": {},
     "output_type": "display_data"
    }
   ],
   "source": [
    "# a \"coluna\" User é apenas para formatação\n",
    "# suponha que A, B, ..., E são as linhas da matriz com um label para visualização\n",
    "\n",
    "df = DataFrame(M, Symbol.(movies_labels))\n",
    "df = insertcols!(df, 1, :User => users_labels)\n",
    "df"
   ]
  },
  {
   "cell_type": "markdown",
   "metadata": {},
   "source": [
    "Cada coluna é uma \"dimensão\" no espaço de filmes existentes dessa matriz. Cada linha, que representa um usuário, tem então um ponto em cada \"dimensão\", em cada filme.\n",
    "Se cada usuário é um ponto nesse espaço de filmes, se analisarmos, por exemplo, o comprimento do vetor $A-B$, teremos a noção do quão distante estão os usuários A e B; nesse caso, na nossa intepretação, o quão diferentes eles são em relação aos filmes existentes. Quanto menor esse vetor, mais próximos eles estão, geometricamente, e isso se traduz em uma maior similaridade de gostos.\n",
    "\n",
    "Temos então:"
   ]
  },
  {
   "cell_type": "code",
   "execution_count": 811,
   "metadata": {},
   "outputs": [],
   "source": [
    "similarity = [] # lista que guardará tuplas na forma (Usuário 1, Usuário 2, Distância entre eles)\n",
    "M_rows = eachrow(M) # lista com as linhas de M\n",
    "n = size(M_rows)[1] # para melhor leitura\n",
    "\n",
    "for user_idx in 1:n-1 \n",
    "    for other_user_idx in user_idx+1:n # iterando sobre todas as duplas possíveis de usuários\n",
    "        v_1 = M[user_idx, :] # pegando o vetor que guarda os valores do primeiro usuário\n",
    "        v_2 = M[other_user_idx, :] # pegando o vetor que guarda os valores do segundo usuário\n",
    "\n",
    "        v_1_label = users_labels[user_idx] # para leitura \n",
    "        v_2_label = users_labels[other_user_idx] # para leitura\n",
    "\n",
    "        # calculando o tamanho da distância entre eles\n",
    "        dist = norm(v_1-v_2)\n",
    "        # adicionando na lista\n",
    "        push!(similarity, (v_1_label, v_2_label, dist))\n",
    "    end\n",
    "end"
   ]
  },
  {
   "cell_type": "code",
   "execution_count": 812,
   "metadata": {},
   "outputs": [
    {
     "data": {
      "text/plain": [
       "10-element Vector{Any}:\n",
       " (\"A\", \"B\", 0.16248076809271922)\n",
       " (\"A\", \"C\", 0.9748846085563152)\n",
       " (\"A\", \"D\", 0.4874423042781577)\n",
       " (\"A\", \"E\", 1.462326912834473)\n",
       " (\"B\", \"C\", 0.8124038404635959)\n",
       " (\"B\", \"D\", 0.32496153618543844)\n",
       " (\"B\", \"E\", 1.2998461447417538)\n",
       " (\"C\", \"D\", 0.48744230427815755)\n",
       " (\"C\", \"E\", 0.4874423042781577)\n",
       " (\"D\", \"E\", 0.9748846085563153)"
      ]
     },
     "metadata": {},
     "output_type": "display_data"
    }
   ],
   "source": [
    "similarity # (usuário 1, usuário 2, distância entre eles)"
   ]
  },
  {
   "cell_type": "markdown",
   "metadata": {},
   "source": [
    "Quanto menor a distância, maior a similaridade entre os usuários em questão. Sendo assim, iremos ordená-los por afinidade de gostos:"
   ]
  },
  {
   "cell_type": "code",
   "execution_count": 813,
   "metadata": {},
   "outputs": [
    {
     "data": {
      "text/plain": [
       "10-element Vector{Any}:\n",
       " (\"A\", \"B\", 0.16248076809271922)\n",
       " (\"B\", \"D\", 0.32496153618543844)\n",
       " (\"C\", \"D\", 0.48744230427815755)\n",
       " (\"A\", \"D\", 0.4874423042781577)\n",
       " (\"C\", \"E\", 0.4874423042781577)\n",
       " (\"B\", \"C\", 0.8124038404635959)\n",
       " (\"A\", \"C\", 0.9748846085563152)\n",
       " (\"D\", \"E\", 0.9748846085563153)\n",
       " (\"B\", \"E\", 1.2998461447417538)\n",
       " (\"A\", \"E\", 1.462326912834473)"
      ]
     },
     "metadata": {},
     "output_type": "display_data"
    }
   ],
   "source": [
    "sort!(similarity, by = x -> x[3]) # ordenando pelos valores numéricos (as distâncias)"
   ]
  },
  {
   "cell_type": "markdown",
   "metadata": {},
   "source": [
    "Podemos observar que os usuários A e B possuem gostos bem similares, sendo os mais parecidos, assim como há uma boa afinidade entre B e D. Os gostos entre os usuários A e E; B e E são os mais distintos nesses dados."
   ]
  },
  {
   "cell_type": "markdown",
   "metadata": {},
   "source": [
    "### Questão 2\n",
    "\n",
    "No PDF."
   ]
  },
  {
   "cell_type": "markdown",
   "metadata": {},
   "source": [
    "### Questão 3"
   ]
  },
  {
   "cell_type": "markdown",
   "metadata": {},
   "source": [
    "Consideremos:\n",
    "- branco = 0\n",
    "- preto = 1\n",
    "\n",
    "A partir da imagem da bandeira (o azul agora é preto), podemos montar a matriz A da seguinte forma:"
   ]
  },
  {
   "cell_type": "code",
   "execution_count": 814,
   "metadata": {},
   "outputs": [
    {
     "data": {
      "text/plain": [
       "9×14 Matrix{Int64}:\n",
       " 1  1  0  1  1  1  1  1  1  1  1  1  1  1\n",
       " 1  1  0  1  1  0  0  0  0  0  0  0  0  0\n",
       " 0  0  0  0  0  1  1  1  1  1  1  1  1  1\n",
       " 1  1  0  1  1  0  0  0  0  0  0  0  0  0\n",
       " 1  1  0  1  1  1  1  1  1  1  1  1  1  1\n",
       " 0  0  0  0  0  0  0  0  0  0  0  0  0  0\n",
       " 1  1  1  1  1  1  1  1  1  1  1  1  1  1\n",
       " 0  0  0  0  0  0  0  0  0  0  0  0  0  0\n",
       " 1  1  1  1  1  1  1  1  1  1  1  1  1  1"
      ]
     },
     "metadata": {},
     "output_type": "display_data"
    }
   ],
   "source": [
    "# considerei um tamanho arbitrário (mas verossímil) para as colunas \n",
    "A = [1 1 0 1 1 1 1 1 1 1 1 1 1 1 \n",
    "     1 1 0 1 1 0 0 0 0 0 0 0 0 0\n",
    "     0 0 0 0 0 1 1 1 1 1 1 1 1 1\n",
    "     1 1 0 1 1 0 0 0 0 0 0 0 0 0\n",
    "     1 1 0 1 1 1 1 1 1 1 1 1 1 1\n",
    "     0 0 0 0 0 0 0 0 0 0 0 0 0 0\n",
    "     1 1 1 1 1 1 1 1 1 1 1 1 1 1\n",
    "     0 0 0 0 0 0 0 0 0 0 0 0 0 0\n",
    "     1 1 1 1 1 1 1 1 1 1 1 1 1 1\n",
    "    ]"
   ]
  },
  {
   "cell_type": "code",
   "execution_count": 815,
   "metadata": {},
   "outputs": [
    {
     "data": {
      "text/plain": [
       "3"
      ]
     },
     "metadata": {},
     "output_type": "display_data"
    }
   ],
   "source": [
    "rank(A)"
   ]
  },
  {
   "cell_type": "markdown",
   "metadata": {},
   "source": [
    "É do nosso interesse decompor essa matriz $A$ em um produto $A=BC^t$.\n",
    "\n",
    "A partir da imagem da própria bandeira, é imediata a percepção de que podemos usar a coluna $1$ (melhor visualizada na matriz numérica) para construir as colunas $2$, $4$ e $5$, que são iguais à coluna $1$; ou seja, $a_2 =  a_4 = a_5 = 1a_1$. Assim, a primeira coluna da nossa matriz $B$ é $a_1$.\n",
    "\n",
    "A segunda percepção é de que não há nenhuma forma de combinar a coluna $3$, que representa a parte que inclui a linha vertical, para formar alguma outra coluna da bandeira, nem de combinar outras colunas de forma a formar $a_3$. Dessa forma, a incluimos em nossa matriz $B$.\n",
    "\n",
    "Além dessas duas, podemos notar apenas mais um padrão que ainda não foi expresso, que são as colunas que, quando juntas, formam a parte puramente horizontal da bandeira, a começar por $a_6$ (primeira parte da bandeira onde há apenas linhas horizontais alternadas entre azul e branco). A partir de $a_5$, podemos reconstruir toda essa parte.\n",
    "\n",
    "Então nossa $B$ pode ser escrita. Para $C$, basta sabermos \"o quanto precisamos\" da combinação de $B$ para multiplicar e voltar a $A$:"
   ]
  },
  {
   "cell_type": "code",
   "execution_count": 816,
   "metadata": {},
   "outputs": [
    {
     "data": {
      "text/plain": [
       "9×3 Matrix{Int64}:\n",
       " 1  0  1\n",
       " 1  0  0\n",
       " 0  0  1\n",
       " 1  0  0\n",
       " 1  0  1\n",
       " 0  0  0\n",
       " 1  1  1\n",
       " 0  0  0\n",
       " 1  1  1"
      ]
     },
     "metadata": {},
     "output_type": "display_data"
    }
   ],
   "source": [
    "B = [1 0 1\n",
    "     1 0 0\n",
    "     0 0 1\n",
    "     1 0 0\n",
    "     1 0 1\n",
    "     0 0 0\n",
    "     1 1 1\n",
    "     0 0 0\n",
    "     1 1 1] "
   ]
  },
  {
   "cell_type": "markdown",
   "metadata": {},
   "source": [
    "Para multiplicarmos e voltarmos a $A$, teremos que ter uma matriz $3\\times14$, que é elementar de achar: basta pensarmos o quanto precisamos de cada linha de $B$ para juntar com cada coluna da matriz requerida que nos faça retornar à $A$, o que é possível fazer \"no olho\", sem a necessidade de um algorítmo prático."
   ]
  },
  {
   "cell_type": "code",
   "execution_count": 817,
   "metadata": {},
   "outputs": [
    {
     "data": {
      "text/plain": [
       "3×14 Matrix{Int64}:\n",
       " 1  1  0  1  1  0  0  0  0  0  0  0  0  0\n",
       " 0  0  1  0  0  0  0  0  0  0  0  0  0  0\n",
       " 0  0  0  0  0  1  1  1  1  1  1  1  1  1"
      ]
     },
     "metadata": {},
     "output_type": "display_data"
    }
   ],
   "source": [
    "# pensamos na coluna como \"o quanto precisamos dos elementos das linhas\" de B para retornar a a\n",
    "# para a primeira linha de A, precisamos que as colunas sejam a_1, a_1 (primeira coluna de B), a_3 (segunda coluna de B), a_1, a_1, e a_5 (terceira coluna de B)\n",
    "# essa \"montagem\" da primeira linha pode ser vista pelas colunas de C\n",
    "# \"precisamos de 1B_1, 1B_1, 1B_2, 1B_1, 1B_1 e 1B_3 até o final da bandeira\n",
    "C = [1 1 0 1 1 0 0 0 0 0 0 0 0 0\n",
    "     0 0 1 0 0 0 0 0 0 0 0 0 0 0\n",
    "     0 0 0 0 0 1 1 1 1 1 1 1 1 1\n",
    "    ]"
   ]
  },
  {
   "cell_type": "markdown",
   "metadata": {},
   "source": [
    "As colunas da matriz $B$ são as peças fundamentais para que seja possível criar a bandeira. A partir de repetições delas (combinações lineares \"multiplicando por $1$\"), podemos construir a imagem da bandeira, o que é codificado pela matriz C, que contém o quanto dessas repetições precisamos fazer para cada uma das peças fundamentais. \n",
    "\n",
    "Essas \"peças fundamentais\" são independentes, ou seja, não é possível criar uma a partir de outra, por isso elas definem o posto da matriz."
   ]
  },
  {
   "cell_type": "markdown",
   "metadata": {},
   "source": [
    "#### Países que possuem bandeira com posto = 1\n",
    "Polônia e Indonésia\n",
    "\n",
    "Considerando:\n",
    "- branco = 0\n",
    "- vermelho = 1"
   ]
  },
  {
   "cell_type": "code",
   "execution_count": 818,
   "metadata": {},
   "outputs": [
    {
     "data": {
      "text/plain": [
       "6×14 Matrix{Int64}:\n",
       " 0  0  0  0  0  0  0  0  0  0  0  0  0  0\n",
       " 0  0  0  0  0  0  0  0  0  0  0  0  0  0\n",
       " 0  0  0  0  0  0  0  0  0  0  0  0  0  0\n",
       " 1  1  1  1  1  1  1  1  1  1  1  1  1  1\n",
       " 1  1  1  1  1  1  1  1  1  1  1  1  1  1\n",
       " 1  1  1  1  1  1  1  1  1  1  1  1  1  1"
      ]
     },
     "metadata": {},
     "output_type": "display_data"
    }
   ],
   "source": [
    "A_poland = [\n",
    "    0 0 0 0 0 0 0 0 0 0 0 0 0 0\n",
    "    0 0 0 0 0 0 0 0 0 0 0 0 0 0\n",
    "    0 0 0 0 0 0 0 0 0 0 0 0 0 0\n",
    "    1 1 1 1 1 1 1 1 1 1 1 1 1 1\n",
    "    1 1 1 1 1 1 1 1 1 1 1 1 1 1\n",
    "    1 1 1 1 1 1 1 1 1 1 1 1 1 1\n",
    "]"
   ]
  },
  {
   "cell_type": "markdown",
   "metadata": {},
   "source": [
    "É elementar perceber que temos uma repetição da primeira coluna em todas as outras. Em outras palavras, precisamos apenas da coluna $a_1$ para conseguir construir todo o resto da bandeira:"
   ]
  },
  {
   "cell_type": "code",
   "execution_count": 819,
   "metadata": {},
   "outputs": [
    {
     "data": {
      "text/plain": [
       "6-element Vector{Int64}:\n",
       " 0\n",
       " 0\n",
       " 0\n",
       " 1\n",
       " 1\n",
       " 1"
      ]
     },
     "metadata": {},
     "output_type": "display_data"
    }
   ],
   "source": [
    "B_poland = [\n",
    "    0\n",
    "    0\n",
    "    0\n",
    "    1\n",
    "    1\n",
    "    1\n",
    "]"
   ]
  },
  {
   "cell_type": "markdown",
   "metadata": {},
   "source": [
    "E repetimos uma vez essa coluna em toda a bandeira, sendo assim, C é formado apenas por $1$'s."
   ]
  },
  {
   "cell_type": "code",
   "execution_count": 820,
   "metadata": {},
   "outputs": [
    {
     "data": {
      "text/plain": [
       "1×14 Matrix{Int64}:\n",
       " 1  1  1  1  1  1  1  1  1  1  1  1  1  1"
      ]
     },
     "metadata": {},
     "output_type": "display_data"
    }
   ],
   "source": [
    "C_poland = [1 1 1 1 1 1 1 1 1 1 1 1 1 1]"
   ]
  },
  {
   "cell_type": "markdown",
   "metadata": {},
   "source": [
    "Analogamente, para a Indonésia:"
   ]
  },
  {
   "cell_type": "code",
   "execution_count": 821,
   "metadata": {},
   "outputs": [
    {
     "data": {
      "text/plain": [
       "1×14 Matrix{Int64}:\n",
       " 1  1  1  1  1  1  1  1  1  1  1  1  1  1"
      ]
     },
     "metadata": {},
     "output_type": "display_data"
    }
   ],
   "source": [
    "A_indonesia = [\n",
    "    1 1 1 1 1 1 1 1 1 1 1 1 1 1\n",
    "    1 1 1 1 1 1 1 1 1 1 1 1 1 1\n",
    "    1 1 1 1 1 1 1 1 1 1 1 1 1 1\n",
    "    0 0 0 0 0 0 0 0 0 0 0 0 0 0\n",
    "    0 0 0 0 0 0 0 0 0 0 0 0 0 0\n",
    "    0 0 0 0 0 0 0 0 0 0 0 0 0 0\n",
    "]\n",
    "\n",
    "# a primeira coluna é suficiente para construir todas as outras\n",
    "B_indonesia = [\n",
    "    1\n",
    "    1\n",
    "    1\n",
    "    0\n",
    "    0\n",
    "    0\n",
    "]\n",
    "\n",
    "# os elementos de B são todos repetidos apenas uma vez\n",
    "C_indonesia = [1 1 1 1 1 1 1 1 1 1 1 1 1 1]"
   ]
  },
  {
   "cell_type": "markdown",
   "metadata": {},
   "source": [
    "#### Países que possuem bandeira com posto = 2\n",
    "Inglaterra e Finlândia\n",
    "\n",
    "Considerando:\n",
    "- branco = 0\n",
    "- vermelho = 1"
   ]
  },
  {
   "cell_type": "code",
   "execution_count": 822,
   "metadata": {},
   "outputs": [
    {
     "data": {
      "text/plain": [
       "7×15 Matrix{Int64}:\n",
       " 0  0  0  0  0  0  0  1  0  0  0  0  0  0  0\n",
       " 0  0  0  0  0  0  0  1  0  0  0  0  0  0  0\n",
       " 0  0  0  0  0  0  0  1  0  0  0  0  0  0  0\n",
       " 1  1  1  1  1  1  1  1  1  1  1  1  1  1  1\n",
       " 0  0  0  0  0  0  0  1  0  0  0  0  0  0  0\n",
       " 0  0  0  0  0  0  0  1  0  0  0  0  0  0  0\n",
       " 0  0  0  0  0  0  0  1  0  0  0  0  0  0  0"
      ]
     },
     "metadata": {},
     "output_type": "display_data"
    }
   ],
   "source": [
    "A_england = [\n",
    "    0 0 0 0 0 0 0 1 0 0 0 0 0 0 0\n",
    "    0 0 0 0 0 0 0 1 0 0 0 0 0 0 0\n",
    "    0 0 0 0 0 0 0 1 0 0 0 0 0 0 0\n",
    "    1 1 1 1 1 1 1 1 1 1 1 1 1 1 1\n",
    "    0 0 0 0 0 0 0 1 0 0 0 0 0 0 0\n",
    "    0 0 0 0 0 0 0 1 0 0 0 0 0 0 0\n",
    "    0 0 0 0 0 0 0 1 0 0 0 0 0 0 0\n",
    "]"
   ]
  },
  {
   "cell_type": "markdown",
   "metadata": {},
   "source": [
    "Podemos notar que precisamos de duas colunas dessa vez: a primeira, $a_1$, que se repete por quase toda a bandeira, e a coluna $a_8$, que é única e não é possível obtê-la a partir de combinações das outras.\n",
    "Sendo assim:"
   ]
  },
  {
   "cell_type": "code",
   "execution_count": 823,
   "metadata": {},
   "outputs": [
    {
     "data": {
      "text/plain": [
       "7×2 Matrix{Int64}:\n",
       " 0  1\n",
       " 0  1\n",
       " 0  1\n",
       " 1  1\n",
       " 0  1\n",
       " 0  1\n",
       " 0  1"
      ]
     },
     "metadata": {},
     "output_type": "display_data"
    }
   ],
   "source": [
    "B_england = [\n",
    "    0 1\n",
    "    0 1\n",
    "    0 1\n",
    "    1 1 \n",
    "    0 1\n",
    "    0 1 \n",
    "    0 1\n",
    "]"
   ]
  },
  {
   "cell_type": "markdown",
   "metadata": {},
   "source": [
    "É elementar também notar que a bandeira é formada apenas por repetições da primeira coluna, com a exceção da coluna $a_8$, logo:"
   ]
  },
  {
   "cell_type": "code",
   "execution_count": 824,
   "metadata": {},
   "outputs": [
    {
     "data": {
      "text/plain": [
       "2×15 Matrix{Int64}:\n",
       " 1  1  1  1  1  1  1  0  1  1  1  1  1  1  1\n",
       " 0  0  0  0  0  0  0  1  0  0  0  0  0  0  0"
      ]
     },
     "metadata": {},
     "output_type": "display_data"
    }
   ],
   "source": [
    "C_england = [\n",
    "    1 1 1 1 1 1 1 0 1 1 1 1 1 1 1\n",
    "    0 0 0 0 0 0 0 1 0 0 0 0 0 0 0\n",
    "]"
   ]
  },
  {
   "cell_type": "markdown",
   "metadata": {},
   "source": [
    "Analogamente, para a Finlândia:"
   ]
  },
  {
   "cell_type": "code",
   "execution_count": 825,
   "metadata": {},
   "outputs": [
    {
     "data": {
      "text/plain": [
       "2×15 Matrix{Int64}:\n",
       " 1  1  1  1  1  1  1  0  1  1  1  1  1  1  1\n",
       " 0  0  0  0  0  0  0  1  0  0  0  0  0  0  0"
      ]
     },
     "metadata": {},
     "output_type": "display_data"
    }
   ],
   "source": [
    "A_finland = [\n",
    "    0 0 0 0 0 0 0 2 0 0 0 0 0 0 0\n",
    "    0 0 0 0 0 0 0 2 0 0 0 0 0 0 0\n",
    "    0 0 0 0 0 0 0 2 0 0 0 0 0 0 0\n",
    "    2 2 2 2 2 2 2 2 2 2 2 2 2 2 2\n",
    "    0 0 0 0 0 0 0 2 0 0 0 0 0 0 0\n",
    "    0 0 0 0 0 0 0 2 0 0 0 0 0 0 0\n",
    "    0 0 0 0 0 0 0 2 0 0 0 0 0 0 0\n",
    "]\n",
    "\n",
    "# as colunas a_1 e a_8 são suficientes para reconstruir toda a bandeira\n",
    "B_finland = [\n",
    "    0 2\n",
    "    0 2\n",
    "    0 2\n",
    "    1 2 \n",
    "    0 2\n",
    "    0 2 \n",
    "    0 2\n",
    "]\n",
    "\n",
    "# a bandeira é formada apenas por repetições da primeira coluna, exceto a_8\n",
    "# que está encaixada na linha 2\n",
    "C_finland = [\n",
    "    1 1 1 1 1 1 1 0 1 1 1 1 1 1 1\n",
    "    0 0 0 0 0 0 0 1 0 0 0 0 0 0 0\n",
    "]"
   ]
  },
  {
   "cell_type": "markdown",
   "metadata": {},
   "source": [
    "#### Países que possuem bandeira com posto = 3\n",
    "Noruega e Islândia\n",
    "\n",
    "Considerando:\n",
    "- branco = 0\n",
    "- vermelho = 1\n",
    "- azul = 2"
   ]
  },
  {
   "cell_type": "markdown",
   "metadata": {},
   "source": [
    "Com um certo cuidado, podemos perceber que a coluna $a_1$ se repete por quase toda a bandeira. No entanto, na interseção da cruz, temos duas colunas importantes e distintas, que são a cruz central (de única cor) e as linhas laterais. Dessa forma, temos três colunas que não são possíveis de serem formadas a partir das outras, e elas formam o nosso $B$."
   ]
  },
  {
   "cell_type": "code",
   "execution_count": 826,
   "metadata": {},
   "outputs": [
    {
     "data": {
      "text/plain": [
       "12×16 Matrix{Int64}:\n",
       " 1  1  1  0  2  2  0  1  1  1  1  1  1  1  1  1\n",
       " 1  1  1  0  2  2  0  1  1  1  1  1  1  1  1  1\n",
       " 1  1  1  0  2  2  0  1  1  1  1  1  1  1  1  1\n",
       " 1  1  1  0  2  2  0  1  1  1  1  1  1  1  1  1\n",
       " 0  0  0  0  2  2  0  0  0  0  0  0  0  0  0  0\n",
       " 2  2  2  2  2  2  2  2  2  2  2  2  2  2  2  2\n",
       " 2  2  2  2  2  2  2  2  2  2  2  2  2  2  2  2\n",
       " 0  0  0  0  2  2  0  0  0  0  0  0  0  0  0  0\n",
       " 1  1  1  0  2  2  0  1  1  1  1  1  1  1  1  1\n",
       " 1  1  1  0  2  2  0  1  1  1  1  1  1  1  1  1\n",
       " 1  1  1  0  2  2  0  1  1  1  1  1  1  1  1  1\n",
       " 1  1  1  0  2  2  0  1  1  1  1  1  1  1  1  1"
      ]
     },
     "metadata": {},
     "output_type": "display_data"
    }
   ],
   "source": [
    "A_norway = [\n",
    "    1 1 1 0 2 2 0 1 1 1 1 1 1 1 1 1\n",
    "    1 1 1 0 2 2 0 1 1 1 1 1 1 1 1 1\n",
    "    1 1 1 0 2 2 0 1 1 1 1 1 1 1 1 1\n",
    "    1 1 1 0 2 2 0 1 1 1 1 1 1 1 1 1\n",
    "    0 0 0 0 2 2 0 0 0 0 0 0 0 0 0 0\n",
    "    2 2 2 2 2 2 2 2 2 2 2 2 2 2 2 2 \n",
    "    2 2 2 2 2 2 2 2 2 2 2 2 2 2 2 2\n",
    "    0 0 0 0 2 2 0 0 0 0 0 0 0 0 0 0\n",
    "    1 1 1 0 2 2 0 1 1 1 1 1 1 1 1 1\n",
    "    1 1 1 0 2 2 0 1 1 1 1 1 1 1 1 1\n",
    "    1 1 1 0 2 2 0 1 1 1 1 1 1 1 1 1\n",
    "    1 1 1 0 2 2 0 1 1 1 1 1 1 1 1 1\n",
    "]"
   ]
  },
  {
   "cell_type": "code",
   "execution_count": 827,
   "metadata": {},
   "outputs": [
    {
     "data": {
      "text/plain": [
       "12×3 Matrix{Int64}:\n",
       " 1  0  2\n",
       " 1  0  2\n",
       " 1  0  2\n",
       " 1  0  2\n",
       " 0  0  2\n",
       " 2  2  2\n",
       " 2  2  2\n",
       " 0  0  2\n",
       " 1  0  2\n",
       " 1  0  2\n",
       " 1  0  2\n",
       " 1  0  2"
      ]
     },
     "metadata": {},
     "output_type": "display_data"
    }
   ],
   "source": [
    "# colunas importantes para a construção do restante da bandeira\n",
    "B_norway = [\n",
    "    1 0 2\n",
    "    1 0 2\n",
    "    1 0 2\n",
    "    1 0 2\n",
    "    0 0 2\n",
    "    2 2 2\n",
    "    2 2 2\n",
    "    0 0 2\n",
    "    1 0 2\n",
    "    1 0 2\n",
    "    1 0 2\n",
    "    1 0 2\n",
    "]"
   ]
  },
  {
   "cell_type": "code",
   "execution_count": 828,
   "metadata": {},
   "outputs": [
    {
     "data": {
      "text/plain": [
       "3×16 Matrix{Int64}:\n",
       " 1  1  1  0  0  0  0  1  1  1  1  1  1  1  1  1\n",
       " 0  0  0  1  0  0  1  0  0  0  0  0  0  0  0  0\n",
       " 0  0  0  0  1  1  0  0  0  0  0  0  0  0  0  0"
      ]
     },
     "metadata": {},
     "output_type": "display_data"
    }
   ],
   "source": [
    "# mesma ideia de construção de A a partir das linhas de B\n",
    "C_norway = [\n",
    "    1 1 1 0 0 0 0 1 1 1 1 1 1 1 1 1\n",
    "    0 0 0 1 0 0 1 0 0 0 0 0 0 0 0 0\n",
    "    0 0 0 0 1 1 0 0 0 0 0 0 0 0 0 0\n",
    "]"
   ]
  },
  {
   "cell_type": "markdown",
   "metadata": {},
   "source": [
    "Analogamente para Islândia:"
   ]
  },
  {
   "cell_type": "code",
   "execution_count": 829,
   "metadata": {},
   "outputs": [
    {
     "data": {
      "text/plain": [
       "3×16 Matrix{Int64}:\n",
       " 1  1  1  0  0  0  0  1  1  1  1  1  1  1  1  1\n",
       " 0  0  0  1  0  0  1  0  0  0  0  0  0  0  0  0\n",
       " 0  0  0  0  1  1  0  0  0  0  0  0  0  0  0  0"
      ]
     },
     "metadata": {},
     "output_type": "display_data"
    }
   ],
   "source": [
    "A_iceland = [\n",
    "    2 2 2 0 1 1 0 2 2 2 2 2 2 2 2 2\n",
    "    2 2 2 0 1 1 0 2 2 2 2 2 2 2 2 2\n",
    "    2 2 2 0 1 1 0 2 2 2 2 2 2 2 2 2\n",
    "    2 2 2 0 1 1 0 2 2 2 2 2 2 2 2 2\n",
    "    0 0 0 0 1 1 0 0 0 0 0 0 0 0 0 0\n",
    "    1 1 1 1 1 1 1 1 1 1 1 1 1 1 1 1\n",
    "    1 1 1 1 1 1 1 1 1 1 1 1 1 1 1 1\n",
    "    0 0 0 0 1 1 0 0 0 0 0 0 0 0 0 0\n",
    "    2 2 2 0 1 1 0 2 2 2 2 2 2 2 2 2\n",
    "    2 2 2 0 1 1 0 2 2 2 2 2 2 2 2 2\n",
    "    2 2 2 0 1 1 0 2 2 2 2 2 2 2 2 2\n",
    "    2 2 2 0 1 1 0 2 2 2 2 2 2 2 2 2\n",
    "]\n",
    "\n",
    "# colunas que compõem A e não são possíveis de serem obtidas a partir de combinações de outras\n",
    "B_iceland = [\n",
    "    2 0 1\n",
    "    2 0 1\n",
    "    2 0 1\n",
    "    2 0 1\n",
    "    0 0 1\n",
    "    1 1 1\n",
    "    1 1 1\n",
    "    0 0 1\n",
    "    2 0 1\n",
    "    2 0 1\n",
    "    2 0 1\n",
    "    2 0 1\n",
    "]\n",
    "\n",
    "# construção de A a partir da relação linhaXcoluna com B\n",
    "C_iceland = [\n",
    "    1 1 1 0 0 0 0 1 1 1 1 1 1 1 1 1\n",
    "    0 0 0 1 0 0 1 0 0 0 0 0 0 0 0 0\n",
    "    0 0 0 0 1 1 0 0 0 0 0 0 0 0 0 0\n",
    "]"
   ]
  },
  {
   "cell_type": "markdown",
   "metadata": {},
   "source": [
    "### Questão 6"
   ]
  },
  {
   "cell_type": "markdown",
   "metadata": {},
   "source": [
    "Vamos considerar:\n",
    "\n",
    "- branco = $0$\n",
    "- cinza = $1$\n",
    "- preto = $2$\n",
    "\n",
    "Estamos então aptos a construir uma matriz que represente o desenho:"
   ]
  },
  {
   "cell_type": "code",
   "execution_count": 830,
   "metadata": {},
   "outputs": [
    {
     "data": {
      "text/plain": [
       "5×5 Matrix{Int64}:\n",
       " 0  2  0  2  0\n",
       " 0  2  0  2  0\n",
       " 0  0  1  0  0\n",
       " 2  0  0  0  2\n",
       " 0  2  2  2  0"
      ]
     },
     "metadata": {},
     "output_type": "display_data"
    }
   ],
   "source": [
    "A = [0 2 0 2 0\n",
    "     0 2 0 2 0\n",
    "     0 0 1 0 0\n",
    "     2 0 0 0 2\n",
    "     0 2 2 2 0]"
   ]
  },
  {
   "cell_type": "markdown",
   "metadata": {},
   "source": [
    "Relembremos que o posto será a quantidade de colunas \"independentes\", que não podem ser construídas a partir da combinação das outras, da matriz, que nesse caso representa o desenho de um rosto sorrindo.\n",
    "\n",
    "Pela própria imagem, podemos notar que a primeira coluna é igual à última; a segunda coluna é igual à penúltima e a do parece ser única e não possível de ser formada a partir das outras.\n",
    "\n",
    "Olhando numericamente para a matriz $A$, comprovaremos essas observações. A coluna $a_5$ é $1a_1$, a coluna $a_4$ é $1a_2$ e a coluna do meio não pode ser formada a partir de combinações das outras.\n",
    "\n",
    "Sendo assim:"
   ]
  },
  {
   "cell_type": "code",
   "execution_count": 831,
   "metadata": {},
   "outputs": [
    {
     "data": {
      "text/plain": [
       "5×3 Matrix{Int64}:\n",
       " 0  2  0\n",
       " 0  2  0\n",
       " 0  0  1\n",
       " 2  0  0\n",
       " 0  2  2"
      ]
     },
     "metadata": {},
     "output_type": "display_data"
    }
   ],
   "source": [
    "# colunas necessárias para construir a matriz A\n",
    "B = [0 2 0\n",
    "     0 2 0\n",
    "     0 0 1\n",
    "     2 0 0\n",
    "     0 2 2]"
   ]
  },
  {
   "cell_type": "markdown",
   "metadata": {},
   "source": [
    "Caso fôssemos reconstruir $A$, precisaríamos multiplicar $B$ por alguma $C$ e retornar às combinações:"
   ]
  },
  {
   "cell_type": "code",
   "execution_count": 832,
   "metadata": {},
   "outputs": [
    {
     "data": {
      "text/plain": [
       "3×5 Matrix{Int64}:\n",
       " 1  0  0  0  1\n",
       " 0  1  0  1  0\n",
       " 0  0  1  0  0"
      ]
     },
     "metadata": {},
     "output_type": "display_data"
    }
   ],
   "source": [
    "# o quanto precisamos (visto pelas colunas) de cada elemento das linhas para reconstruir A\n",
    "C = [1 0 0 0 1\n",
    "     0 1 0 1 0\n",
    "     0 0 1 0 0]"
   ]
  },
  {
   "cell_type": "markdown",
   "metadata": {},
   "source": [
    "Sendo assim, o posto do sorriso é $3$."
   ]
  },
  {
   "cell_type": "markdown",
   "metadata": {},
   "source": [
    "### Questão 9"
   ]
  },
  {
   "cell_type": "code",
   "execution_count": 833,
   "metadata": {},
   "outputs": [
    {
     "data": {
      "text/plain": [
       "find_LU (generic function with 1 method)"
      ]
     },
     "metadata": {},
     "output_type": "display_data"
    }
   ],
   "source": [
    "function find_LU(A)\n",
    "    \"\"\"\n",
    "    A: matriz nxn\n",
    "    \"\"\"\n",
    "    n,n = size(A)\n",
    "    L = zeros(n,n)\n",
    "    U = zeros(n,n)\n",
    "\n",
    "    for i=1:n\n",
    "        pivot = A[i,i]\n",
    "        row = A[i,:]\n",
    "        column = A[:,i]/pivot\n",
    "\n",
    "        L[:,i] = column #i-ésima coluna da L\n",
    "        U[i,:] = row #i-ésima linha da U\n",
    "\n",
    "        A = A - column*row'\n",
    "    end\n",
    "\n",
    "    return L,U\n",
    "end"
   ]
  },
  {
   "cell_type": "markdown",
   "metadata": {},
   "source": [
    "Declarando a matriz A"
   ]
  },
  {
   "cell_type": "code",
   "execution_count": 834,
   "metadata": {},
   "outputs": [
    {
     "data": {
      "text/plain": [
       "3×3 Matrix{Int64}:\n",
       " 2   1   1\n",
       " 4   5   4\n",
       " 6  15  16"
      ]
     },
     "metadata": {},
     "output_type": "display_data"
    }
   ],
   "source": [
    "A = [2 1 1\n",
    "     4 5 4\n",
    "     6 15 16]"
   ]
  },
  {
   "cell_type": "markdown",
   "metadata": {},
   "source": [
    "A partir do algoritmo na função `find_LU`, encontraremos $L$ e $U$ tal que $A = LU$"
   ]
  },
  {
   "cell_type": "code",
   "execution_count": 835,
   "metadata": {},
   "outputs": [
    {
     "data": {
      "text/plain": [
       "([1.0 0.0 0.0; 2.0 1.0 0.0; 3.0 4.0 1.0], [2.0 1.0 1.0; 0.0 3.0 2.0; 0.0 0.0 5.0])"
      ]
     },
     "metadata": {},
     "output_type": "display_data"
    }
   ],
   "source": [
    "L, U = find_LU(A)"
   ]
  },
  {
   "cell_type": "markdown",
   "metadata": {},
   "source": [
    "Verificando se temos de fato uma $L$ e uma $U$"
   ]
  },
  {
   "cell_type": "code",
   "execution_count": 836,
   "metadata": {},
   "outputs": [
    {
     "data": {
      "text/plain": [
       "3×3 Matrix{Float64}:\n",
       " 1.0  0.0  0.0\n",
       " 2.0  1.0  0.0\n",
       " 3.0  4.0  1.0"
      ]
     },
     "metadata": {},
     "output_type": "display_data"
    }
   ],
   "source": [
    "L"
   ]
  },
  {
   "cell_type": "code",
   "execution_count": 837,
   "metadata": {},
   "outputs": [
    {
     "data": {
      "text/plain": [
       "3×3 Matrix{Float64}:\n",
       " 2.0  1.0  1.0\n",
       " 0.0  3.0  2.0\n",
       " 0.0  0.0  5.0"
      ]
     },
     "metadata": {},
     "output_type": "display_data"
    }
   ],
   "source": [
    "U"
   ]
  },
  {
   "cell_type": "markdown",
   "metadata": {},
   "source": [
    "Verificando se $A = LU$, levando em consideração o erro numérico"
   ]
  },
  {
   "cell_type": "code",
   "execution_count": 838,
   "metadata": {},
   "outputs": [
    {
     "data": {
      "text/plain": [
       "0.0"
      ]
     },
     "metadata": {},
     "output_type": "display_data"
    }
   ],
   "source": [
    "norm(A - L*U)"
   ]
  },
  {
   "cell_type": "markdown",
   "metadata": {},
   "source": [
    "Sabemos que, uma vez que temos $A = LU$, se $Ax = b$, então $LUx = b$. Como temos as funções de substituição reversa e direta, podemos utilizá-las para resolver sistemas lineares desse tipo. \n",
    "\n",
    "Primeiro estipularemos $Ux = y$ e resolveremos $Ly = b$. Descobrindo $y$, poderemos resolver $Ux = y$ e encontrar a solução $x$ desejada.\n",
    "\n",
    "Teremos então três sistemas, sendo eles $LUx = e_i$, $i = 1, 2, 3$"
   ]
  },
  {
   "cell_type": "markdown",
   "metadata": {},
   "source": [
    "Para $LUx = e_1$"
   ]
  },
  {
   "cell_type": "code",
   "execution_count": 839,
   "metadata": {},
   "outputs": [
    {
     "data": {
      "text/plain": [
       "3-element Vector{Float64}:\n",
       "  0.6666666666666666\n",
       " -1.3333333333333333\n",
       "  1.0"
      ]
     },
     "metadata": {},
     "output_type": "display_data"
    }
   ],
   "source": [
    "# Ux = y\n",
    "# Ly = B\n",
    "\n",
    "b = [1\n",
    "     0\n",
    "     0]\n",
    "\n",
    "# encontrando y tal que Ly = b\n",
    "y = forward_subs(L, b)\n",
    "# encontrando x tal que Ux = y\n",
    "x_c = backward_subs(U, y)"
   ]
  },
  {
   "cell_type": "markdown",
   "metadata": {},
   "source": [
    "Verificando a corretude"
   ]
  },
  {
   "cell_type": "code",
   "execution_count": 840,
   "metadata": {},
   "outputs": [
    {
     "data": {
      "text/plain": [
       "0.0"
      ]
     },
     "metadata": {},
     "output_type": "display_data"
    }
   ],
   "source": [
    "norm(L*U*x_c - b)"
   ]
  },
  {
   "cell_type": "markdown",
   "metadata": {},
   "source": [
    "Para $LUx = e_2$"
   ]
  },
  {
   "cell_type": "code",
   "execution_count": 841,
   "metadata": {},
   "outputs": [
    {
     "data": {
      "text/plain": [
       "3-element Vector{Float64}:\n",
       " -0.033333333333333326\n",
       "  0.8666666666666667\n",
       " -0.8"
      ]
     },
     "metadata": {},
     "output_type": "display_data"
    }
   ],
   "source": [
    "# Ux = y\n",
    "# Ly = B\n",
    "\n",
    "b = [0\n",
    "     1\n",
    "     0]\n",
    "\n",
    "# encontrando y tal que Ly = b\n",
    "y = forward_subs(L, b)\n",
    "# encontrando x tal que Ux = y\n",
    "x_d = backward_subs(U, y)"
   ]
  },
  {
   "cell_type": "markdown",
   "metadata": {},
   "source": [
    "Verificando a corretude"
   ]
  },
  {
   "cell_type": "code",
   "execution_count": 842,
   "metadata": {},
   "outputs": [
    {
     "data": {
      "text/plain": [
       "0.0"
      ]
     },
     "metadata": {},
     "output_type": "display_data"
    }
   ],
   "source": [
    "norm(L*U*x_d - b)"
   ]
  },
  {
   "cell_type": "markdown",
   "metadata": {},
   "source": [
    "Para $LUx = e_3$"
   ]
  },
  {
   "cell_type": "code",
   "execution_count": 843,
   "metadata": {},
   "outputs": [
    {
     "data": {
      "text/plain": [
       "3-element Vector{Float64}:\n",
       " -0.03333333333333334\n",
       " -0.13333333333333333\n",
       "  0.2"
      ]
     },
     "metadata": {},
     "output_type": "display_data"
    }
   ],
   "source": [
    "# Ux = y\n",
    "# Ly = B\n",
    "\n",
    "b = [0\n",
    "     0\n",
    "     1]\n",
    "\n",
    "# encontrando y tal que Ly = b\n",
    "y = forward_subs(L, b)\n",
    "# encontrando x tal que Ux = y\n",
    "x_e = backward_subs(U, y)"
   ]
  },
  {
   "cell_type": "markdown",
   "metadata": {},
   "source": [
    "Verificando a corretude"
   ]
  },
  {
   "cell_type": "code",
   "execution_count": 844,
   "metadata": {},
   "outputs": [
    {
     "data": {
      "text/plain": [
       "0.0"
      ]
     },
     "metadata": {},
     "output_type": "display_data"
    }
   ],
   "source": [
    "norm(L*U*x_e- b)"
   ]
  },
  {
   "cell_type": "markdown",
   "metadata": {},
   "source": [
    "Para encontrar a inversa, devemos relembrar que a definição de matriz inversa é: $AA^{-1}=I$, sendo $A$ uma matriz, $A^{-1} a sua inversa e $I$ a matriz identidade.\n",
    "\n",
    "Consideremos os vetores $x$ dos itens anteriores, sendo eles $x_c, x_d, x_e$, respectivamente em relação a cada questão. Demonstramos que $Ax_c = e_1$, $Ax_d = e_2$, $Ax_e = e_3$. Podemos então colocá-los como colunas de uma matriz e verificar que ela formará a inversa de $A$:"
   ]
  },
  {
   "cell_type": "code",
   "execution_count": 845,
   "metadata": {},
   "outputs": [
    {
     "data": {
      "text/plain": [
       "3×3 Matrix{Float64}:\n",
       "  0.666667  -0.0333333  -0.0333333\n",
       " -1.33333    0.866667   -0.133333\n",
       "  1.0       -0.8         0.2"
      ]
     },
     "metadata": {},
     "output_type": "display_data"
    }
   ],
   "source": [
    "# construindo uma matriz B tal que suas colunas são os vetores x_c, x_d, x_e encontramos anteriormente\n",
    "B = [x_c x_d x_e]"
   ]
  },
  {
   "cell_type": "markdown",
   "metadata": {},
   "source": [
    "Verificando a corretude"
   ]
  },
  {
   "cell_type": "code",
   "execution_count": 846,
   "metadata": {},
   "outputs": [
    {
     "data": {
      "text/plain": [
       "9.930136612989092e-16"
      ]
     },
     "metadata": {},
     "output_type": "display_data"
    }
   ],
   "source": [
    "#matriz identidade 3x3\n",
    "I_3x3 = I(3)\n",
    "\n",
    "norm(A*B - I_3x3)"
   ]
  },
  {
   "cell_type": "markdown",
   "metadata": {},
   "source": [
    "Então a matriz $B$ construída pelos vetores $x$ em suas colunas é a inversa de $A$, ou seja, encontramos $B=A^{-1}$."
   ]
  },
  {
   "cell_type": "markdown",
   "metadata": {},
   "source": [
    "Para encontrar a inversa de uma matriz $B \\in \\mathbb{R}^{n \\times n}$, sabendo que temos em mãos $L$ e $U$ tal que $B=LU$, podemos:\n",
    "\n",
    "lista_de_vetores_x $\\leftarrow$ [ ]\n",
    "\n",
    "B $\\leftarrow$ zeros(n, n) // a matriz final, inversa de A\n",
    "\n",
    "para $i$ em $1...n$:\n",
    "- y $\\leftarrow$ subs_direta($L, e_i$) // resolvendo $Ly = b, b = e_i$\n",
    "- x $\\leftarrow$ subs_reversa($U, y$) // resolvendo $Ux = y$ para encontrar a solução $x$\n",
    "- B[:, $i$] $\\leftarrow$ $x$ // colocando o vetor $x$ encontrando na coluna $i$ da matriz inversa\n",
    "\n",
    "retorne $B$\n"
   ]
  },
  {
   "cell_type": "markdown",
   "metadata": {},
   "source": [
    "Implementando o pseudocódigo para verificar a corretude:"
   ]
  },
  {
   "cell_type": "code",
   "execution_count": 847,
   "metadata": {},
   "outputs": [
    {
     "data": {
      "text/plain": [
       "9.930136612989092e-16"
      ]
     },
     "metadata": {},
     "output_type": "display_data"
    }
   ],
   "source": [
    "lista_de_vetores_x = []\n",
    "B = zeros(3, 3)\n",
    "e = [[1 0 0], [0 1 0], [0 0 1]]'\n",
    "\n",
    "for i in 1:3\n",
    "    y = forward_subs(L, e[i])\n",
    "    x = backward_subs(U, y)\n",
    "    B[:, i] = x\n",
    "end\n",
    "\n",
    "norm(A*B - I(3))"
   ]
  },
  {
   "cell_type": "markdown",
   "metadata": {},
   "source": [
    "Pelas propriedades do determinante, sabemos que, para $A,B \\in \\mathbb{R}^{n \\times n}$, $det(AB) = det(A)det(B)$\n",
    "\n",
    "No nosso caso, como $A = LU$, temos que $det(A)=det(LU)=det(L)det(U)$. Sabemos calcular a determinante de matrizes triangulates que estejam em $\\mathbb{R}^{3 \\times 3}$, resultado dado pelo produtório dos elementos da diagonal.\n",
    "\n",
    "Sendo assim:"
   ]
  },
  {
   "cell_type": "code",
   "execution_count": 848,
   "metadata": {},
   "outputs": [
    {
     "data": {
      "text/plain": [
       "1.0"
      ]
     },
     "metadata": {},
     "output_type": "display_data"
    }
   ],
   "source": [
    "det_L = L[1,1]*L[2,2]*L[3,3]"
   ]
  },
  {
   "cell_type": "code",
   "execution_count": 849,
   "metadata": {},
   "outputs": [
    {
     "data": {
      "text/plain": [
       "30.0"
      ]
     },
     "metadata": {},
     "output_type": "display_data"
    }
   ],
   "source": [
    "det_U = U[1,1]*U[2,2]*U[3,3]"
   ]
  },
  {
   "cell_type": "markdown",
   "metadata": {},
   "source": [
    "Podemos agora calcular o determinante de A:"
   ]
  },
  {
   "cell_type": "code",
   "execution_count": 850,
   "metadata": {},
   "outputs": [
    {
     "data": {
      "text/plain": [
       "30.0"
      ]
     },
     "metadata": {},
     "output_type": "display_data"
    }
   ],
   "source": [
    "det_A = det_L * det_U"
   ]
  },
  {
   "cell_type": "markdown",
   "metadata": {},
   "source": [
    "Para encontrar o determinante de uma matriz $B \\in \\mathbb{R}^{n \\times n}$, sabendo sua composição $B=LU$, podemos fazer:\n",
    "\n",
    "$det_L \\leftarrow 1$\n",
    "\n",
    "$det_U \\leftarrow 1$\n",
    "\n",
    "para $i$ em $1...n$:\n",
    "- $det_L = det_L \\cdot L[i,i]$\n",
    "- $det_U = det_U \\cdot U[i, i]$\n",
    "\n",
    "$det_A \\leftarrow det_L \\cdot det_U$ \n",
    "\n",
    "retorne $det_A$"
   ]
  },
  {
   "cell_type": "markdown",
   "metadata": {},
   "source": [
    "Implementando o pseudocódigo para verificar a corretude"
   ]
  },
  {
   "cell_type": "code",
   "execution_count": 851,
   "metadata": {},
   "outputs": [
    {
     "data": {
      "text/plain": [
       "30.0"
      ]
     },
     "metadata": {},
     "output_type": "display_data"
    }
   ],
   "source": [
    "det_L = 1\n",
    "det_U = 1\n",
    "\n",
    "for i in 1:3\n",
    "    det_L = det_L * L[i,i]\n",
    "    det_U = det_U * U[i, i]\n",
    "end\n",
    "\n",
    "det_A = det_L * det_U"
   ]
  },
  {
   "cell_type": "markdown",
   "metadata": {},
   "source": [
    "#### Questão 10"
   ]
  },
  {
   "cell_type": "markdown",
   "metadata": {},
   "source": [
    "Modificando a decomposição $LU$ para quando a entrada é uma matriz simétrica (parte teórica feita à mão no PDF)."
   ]
  },
  {
   "cell_type": "code",
   "execution_count": 852,
   "metadata": {},
   "outputs": [
    {
     "data": {
      "text/plain": [
       "find_LU (generic function with 1 method)"
      ]
     },
     "metadata": {},
     "output_type": "display_data"
    }
   ],
   "source": [
    "function find_LU(A)\n",
    "    \"\"\"\n",
    "    A: matriz nxn\n",
    "    \"\"\"\n",
    "    n,n = size(A)\n",
    "    L = zeros(n,n)\n",
    "    U = zeros(n,n)\n",
    "\n",
    "    for i=1:n\n",
    "        pivot = A[i,i]\n",
    "        row = A[i,:]\n",
    "        column = A[:,i]/pivot\n",
    "\n",
    "        L[:,i] = column #i-ésima coluna da L\n",
    "        U[i,:] = row #i-ésima linha da U\n",
    "\n",
    "        A = A - column*row'\n",
    "    end\n",
    "\n",
    "    return L,U\n",
    "end"
   ]
  },
  {
   "cell_type": "code",
   "execution_count": 853,
   "metadata": {},
   "outputs": [
    {
     "data": {
      "text/plain": [
       "find_LU_for_symmetric (generic function with 1 method)"
      ]
     },
     "metadata": {},
     "output_type": "display_data"
    }
   ],
   "source": [
    "function find_LU_for_symmetric(A)\n",
    "    \"\"\"\n",
    "    A: matriz nxn simétrica\n",
    "    \"\"\"\n",
    "    n,n = size(A)\n",
    "    L = zeros(n,n)\n",
    "\n",
    "    #passo 1 descrito (no PDF)\n",
    "    L[1,1] = sqrt(A[1,1])\n",
    "\n",
    "    #passo 2 descrito (calculando a primeira coluna de L)\n",
    "    for j in 2:n \n",
    "        L[j,1] = A[j,1]/L[1,1]\n",
    "    end\n",
    "\n",
    "    #passo 3\n",
    "    for i in 2:n\n",
    "        # utilizando sum_ como auxiliar para a notação de somatório em matemática\n",
    "        sum_ = 0\n",
    "        for k in 1:i-1 # realizando a soma de fato\n",
    "            sum_ += L[i,k]^2 \n",
    "        end \n",
    "        # calculando a diagonal de L\n",
    "        L[i,i] = sqrt(A[i,i]-sum_) \n",
    "        \n",
    "        # calculando os elementos abaixo da diagonal\n",
    "        # passo 4\n",
    "        for j in i+1:n \n",
    "            # novamente utilizando a variável sum_ apenas como suporte para o somatório\n",
    "            sum_ = 0\n",
    "            for k in 1:i-1 \n",
    "                sum_ += L[j,k]*L[i,k]\n",
    "            end\n",
    "            # adicionando na matriz L em si\n",
    "            L[j,i] = (1/L[i,i])*(A[j,i]-sum_)\n",
    "        end \n",
    "    end \n",
    "\n",
    "    return L,L'\n",
    "end"
   ]
  },
  {
   "cell_type": "markdown",
   "metadata": {},
   "source": [
    "Utilizando uma matriz qualquer para verificar a decomposição"
   ]
  },
  {
   "cell_type": "code",
   "execution_count": 854,
   "metadata": {},
   "outputs": [
    {
     "data": {
      "text/plain": [
       "([2.449489742783178 0.0 0.0; 6.123724356957946 4.183300132670377 0.0; 22.45365597551247 20.916500663351886 6.110100926607781], [2.449489742783178 6.123724356957946 22.45365597551247; 0.0 4.183300132670377 20.916500663351886; 0.0 0.0 6.110100926607781])"
      ]
     },
     "metadata": {},
     "output_type": "display_data"
    }
   ],
   "source": [
    "A = [6 15 55\n",
    "     15 55 225\n",
    "     55 225 979]\n",
    "\n",
    "L, U = find_LU_for_symmetric(A)"
   ]
  },
  {
   "cell_type": "code",
   "execution_count": 855,
   "metadata": {},
   "outputs": [
    {
     "data": {
      "text/plain": [
       "3×3 Matrix{Float64}:\n",
       "  2.44949   0.0     0.0\n",
       "  6.12372   4.1833  0.0\n",
       " 22.4537   20.9165  6.1101"
      ]
     },
     "metadata": {},
     "output_type": "display_data"
    }
   ],
   "source": [
    "L"
   ]
  },
  {
   "cell_type": "code",
   "execution_count": 856,
   "metadata": {},
   "outputs": [
    {
     "data": {
      "text/plain": [
       "3×3 adjoint(::Matrix{Float64}) with eltype Float64:\n",
       " 2.44949  6.12372  22.4537\n",
       " 0.0      4.1833   20.9165\n",
       " 0.0      0.0       6.1101"
      ]
     },
     "metadata": {},
     "output_type": "display_data"
    }
   ],
   "source": [
    "U # igual a L'"
   ]
  },
  {
   "cell_type": "markdown",
   "metadata": {},
   "source": [
    "Verificando se $A = LL'$"
   ]
  },
  {
   "cell_type": "code",
   "execution_count": 857,
   "metadata": {},
   "outputs": [
    {
     "data": {
      "text/plain": [
       "8.881784197001252e-16"
      ]
     },
     "metadata": {},
     "output_type": "display_data"
    }
   ],
   "source": [
    "norm(L*U-A)"
   ]
  },
  {
   "cell_type": "markdown",
   "metadata": {},
   "source": [
    "Reparemos que gastamos menos memória nesse algoritmo pois não precisamos criar uma segunda matriz $U$, basta utilizarmos a própria $L$ transposta como retorno para $U$."
   ]
  },
  {
   "cell_type": "markdown",
   "metadata": {},
   "source": [
    "#### Questão 11"
   ]
  },
  {
   "cell_type": "markdown",
   "metadata": {},
   "source": [
    "Temos que $AZ = LLQU$, $Q$ e $Z$ são ortogonais, $L$ é triangular inferior com diagonal não nula e $U$ é triangular superior com diagonal não nula, sendo todas pertencentes ao $\\mathbb{R}^{n \\times n}$. \n",
    "\n",
    "Com essas informações, queremos determinar $Ax = Lb$ eficientemente, conhecendo de antemão $U$, $L$, $Z$, $Q$ e $b$."
   ]
  },
  {
   "cell_type": "markdown",
   "metadata": {},
   "source": [
    "Para alcançar a complexidade $O(n^2)$ na resolução do sistema, será necessário, primeiro, pré-processar $A$, o que terá complexidade $O(n^3)$.\n",
    "\n",
    "Para isso, precisaremos primeiro notar que:\n",
    "\n",
    "$AZ = LLQU$\n",
    "\n",
    "Por $Z$ ser ortogonal, multiplicamos ambos os lados por $Z^t$:\n",
    "\n",
    "$A = LLQUZ^t$"
   ]
  },
  {
   "cell_type": "markdown",
   "metadata": {},
   "source": [
    "Temos o sistema $Ax = Lb$, que é o mesmo que $LLQUZ^tx = Lb$. Por $L$ ser triangular inferior com diagonal não nula, ela admite uma inversa; podemos então multiplicar o início de ambas as equações por $L^{-1}$, tornando a $L^{-1}L=I$:\n",
    "\n",
    "$LQUZ^tx=b$"
   ]
  },
  {
   "cell_type": "markdown",
   "metadata": {},
   "source": [
    "Agora, computacionalmente, podemos realizar o seguinte procedimento:\n",
    "\n",
    "Primeiro consideremos $Ly_1=b$, com $y_1=QUZ^tx$\n",
    "- $y_1 \\leftarrow$ subs_direta($L$, $b$)\n",
    "\n",
    "Teremos ainda o resultado $QUZ^tx = y_1$. Como $Q$ é ortogonal, podemos multiplicar ambos os lados por $Q^t$ e calcularmos numericamente o valor de $Q^ty_1=y_2$:\n",
    "\n",
    "$UZ^tx = y_2$\n",
    "\n",
    "Então, considerando $Uy_3=y_2$, com $y_3=Z^tx$:\n",
    "\n",
    "- $y_3 \\leftarrow$ subs_reversa($U$, $y_2$)\n",
    "\n",
    "Isso nos deixará com\n",
    "\n",
    "$Z^tx = y_3$\n",
    "\n",
    "Como $Z^t$ é ortogonal, podemos multiplicar ambos os lados por $Z$ e calcularmos numericamente o valor de $Zy_3=x$:\n",
    "\n",
    "$x \\leftarrow Zy_3$\n",
    "\n"
   ]
  },
  {
   "cell_type": "markdown",
   "metadata": {},
   "source": [
    "Sendo assim, conhecendo $U, L, Z, Q$ e $b$, temos que $Ax = Lb$ é o mesmo que $LQUZ^tx=b$. A seguir, o algoritmo:\n",
    "\n",
    "- $y_1 \\leftarrow$ subs_direta($L$,$b$)\n",
    "- $y_2 \\leftarrow Q^ty_1$\n",
    "- $y_3 \\leftarrow$ subs_reversa($U$, $y_2$)\n",
    "- $x \\leftarrow(Z, x)$\n",
    "\n",
    "retorne $x$\n",
    "\n",
    "Como todas as operações de subs_direta, subs_reversa e multiplicação matriz x vetor são de complexidade de ordem $O(n^2)$, essa resolução de sistema terá também ordem de $O(n^2)$."
   ]
  },
  {
   "cell_type": "markdown",
   "metadata": {},
   "source": [
    "#### Questão 25"
   ]
  },
  {
   "cell_type": "markdown",
   "metadata": {},
   "source": [
    "Sabemos que temos os vértices $x_1, x_2, x_3$ e $x_4$; e que as temperaturas nas margens são $5, 15, 35$ e $10$ (graus celsius).\n",
    "\n",
    "Na nossa condição, a temperatura de cada vértice é aproximadamente a média das temperaturas dos $4$ vértices vizinhos.\n",
    "\n",
    "Sendo assim, temos que:\n",
    "\n",
    "- $x_1 = \\frac{1}{4}(5+15+x_2+x_3)$\n",
    "- $x_2 = \\frac{1}{4}(x_1+15+35+x_3)$\n",
    "- $x_3 = \\frac{1}{4}(x_1+x_4+10+5)$\n",
    "- $x_4 = \\frac{1}{4}(x_2+35+10+x_3)$\n",
    "\n",
    "Reorganizando as equações:\n",
    "- $4x_1 = 5+15+x_2+x_3$\n",
    "- $4x_2 = x_1+15+35+x_3$\n",
    "- $4x_3 = x_1+x_4+10+5$\n",
    "- $4x_4 = x_2+35+10+x_3$\n",
    "\n",
    "Separando as incógnitas:\n",
    "- $4x_1-x_2-x_3 = 20$\n",
    "- $4x_2-x_1-x_3 = 50$\n",
    "- $4x_3-x_1-x_4 = 15$\n",
    "- $4x_4-x_2-x_3 = 45$\n",
    "\n",
    "Arrumando a equação de forma a ficar mais legível:\n",
    "- $4x_1-x_2-x_3+0x_4 = 20$\n",
    "- $-x_1+4x_2-x_3+0x_4 = 50$\n",
    "- $-x_1+0x_2+4x_3-x_4 = 15$\n",
    "- $0x_1-x_2-x_3+4x_4= 45$"
   ]
  },
  {
   "cell_type": "markdown",
   "metadata": {},
   "source": [
    "Podemos expressar nosso sistema em forma matricial $Ax = b$:"
   ]
  },
  {
   "cell_type": "code",
   "execution_count": 858,
   "metadata": {},
   "outputs": [
    {
     "data": {
      "text/plain": [
       "4-element Vector{Int64}:\n",
       " 20\n",
       " 50\n",
       " 15\n",
       " 45"
      ]
     },
     "metadata": {},
     "output_type": "display_data"
    }
   ],
   "source": [
    "# o lado esquerdo das equações\n",
    "A = [4 -1 -1 0\n",
    "    -1  4 -1 0\n",
    "    -1  0  4 -1\n",
    "     0 -1 -1 4]\n",
    "\n",
    "# o lado direito das equações\n",
    "b = [20\n",
    "     50\n",
    "     15\n",
    "     45]"
   ]
  },
  {
   "cell_type": "markdown",
   "metadata": {},
   "source": [
    "Para verificar, podemos utilizar a própria resolução de sistemas lineares do Julia:"
   ]
  },
  {
   "cell_type": "code",
   "execution_count": 861,
   "metadata": {},
   "outputs": [
    {
     "data": {
      "text/plain": [
       "4-element Vector{Float64}:\n",
       " 12.524999999999999\n",
       " 18.525\n",
       " 11.575\n",
       " 18.775"
      ]
     },
     "metadata": {},
     "output_type": "display_data"
    }
   ],
   "source": [
    "x = A\\b"
   ]
  },
  {
   "cell_type": "markdown",
   "metadata": {},
   "source": [
    "O resultado de fato parece verossímil com as temperaturas das bordas."
   ]
  },
  {
   "cell_type": "code",
   "execution_count": 860,
   "metadata": {},
   "outputs": [],
   "source": []
  }
 ],
 "metadata": {
  "kernelspec": {
   "display_name": "Julia 1.9.3",
   "language": "julia",
   "name": "julia-1.9"
  },
  "language_info": {
   "file_extension": ".jl",
   "mimetype": "application/julia",
   "name": "julia",
   "version": "1.9.3"
  },
  "orig_nbformat": 4
 },
 "nbformat": 4,
 "nbformat_minor": 2
}
